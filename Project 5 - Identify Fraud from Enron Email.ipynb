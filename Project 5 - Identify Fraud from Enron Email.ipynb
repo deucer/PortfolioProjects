{
 "cells": [
  {
   "cell_type": "markdown",
   "metadata": {},
   "source": [
    "### Project 5 - Identify Fraud from Enron Email\n",
    "Jeremy Crantek<br>\n",
    "Western Governor's University<br>\n",
    "September 29, 2020"
   ]
  },
  {
   "cell_type": "code",
   "execution_count": 1,
   "metadata": {},
   "outputs": [],
   "source": [
    "#!/usr/bin/env python -W ignore::DeprecationWarning\n",
    "# import libraries    \n",
    "import sys\n",
    "import cPickle as pickle\n",
    "import pandas as pd\n",
    "import matplotlib.pyplot as plt\n",
    "import numpy as np\n",
    "from time import time\n",
    "from tester import dump_classifier_and_data\n",
    "import warnings\n",
    "warnings.filterwarnings('ignore')\n",
    "sys.path.append(\"../tools/\")"
   ]
  },
  {
   "cell_type": "code",
   "execution_count": 2,
   "metadata": {},
   "outputs": [],
   "source": [
    "#Let's show those graphs in our notebook\n",
    "%matplotlib inline\n",
    "\n",
    "#Let's display all those columns in our notebook\n",
    "pd.set_option('display.max_columns', None)"
   ]
  },
  {
   "cell_type": "code",
   "execution_count": 3,
   "metadata": {},
   "outputs": [
    {
     "data": {
      "text/html": [
       "<div>\n",
       "<style scoped>\n",
       "    .dataframe tbody tr th:only-of-type {\n",
       "        vertical-align: middle;\n",
       "    }\n",
       "\n",
       "    .dataframe tbody tr th {\n",
       "        vertical-align: top;\n",
       "    }\n",
       "\n",
       "    .dataframe thead th {\n",
       "        text-align: right;\n",
       "    }\n",
       "</style>\n",
       "<table border=\"1\" class=\"dataframe\">\n",
       "  <thead>\n",
       "    <tr style=\"text-align: right;\">\n",
       "      <th></th>\n",
       "      <th>count</th>\n",
       "      <th>unique</th>\n",
       "      <th>top</th>\n",
       "      <th>freq</th>\n",
       "    </tr>\n",
       "  </thead>\n",
       "  <tbody>\n",
       "    <tr>\n",
       "      <th>salary</th>\n",
       "      <td>146</td>\n",
       "      <td>95</td>\n",
       "      <td>NaN</td>\n",
       "      <td>51</td>\n",
       "    </tr>\n",
       "    <tr>\n",
       "      <th>to_messages</th>\n",
       "      <td>146</td>\n",
       "      <td>87</td>\n",
       "      <td>NaN</td>\n",
       "      <td>60</td>\n",
       "    </tr>\n",
       "    <tr>\n",
       "      <th>deferral_payments</th>\n",
       "      <td>146</td>\n",
       "      <td>40</td>\n",
       "      <td>NaN</td>\n",
       "      <td>107</td>\n",
       "    </tr>\n",
       "    <tr>\n",
       "      <th>total_payments</th>\n",
       "      <td>146</td>\n",
       "      <td>126</td>\n",
       "      <td>NaN</td>\n",
       "      <td>21</td>\n",
       "    </tr>\n",
       "    <tr>\n",
       "      <th>exercised_stock_options</th>\n",
       "      <td>146</td>\n",
       "      <td>102</td>\n",
       "      <td>NaN</td>\n",
       "      <td>44</td>\n",
       "    </tr>\n",
       "    <tr>\n",
       "      <th>bonus</th>\n",
       "      <td>146</td>\n",
       "      <td>42</td>\n",
       "      <td>NaN</td>\n",
       "      <td>64</td>\n",
       "    </tr>\n",
       "    <tr>\n",
       "      <th>restricted_stock</th>\n",
       "      <td>146</td>\n",
       "      <td>98</td>\n",
       "      <td>NaN</td>\n",
       "      <td>36</td>\n",
       "    </tr>\n",
       "    <tr>\n",
       "      <th>shared_receipt_with_poi</th>\n",
       "      <td>146</td>\n",
       "      <td>84</td>\n",
       "      <td>NaN</td>\n",
       "      <td>60</td>\n",
       "    </tr>\n",
       "    <tr>\n",
       "      <th>restricted_stock_deferred</th>\n",
       "      <td>146</td>\n",
       "      <td>19</td>\n",
       "      <td>NaN</td>\n",
       "      <td>128</td>\n",
       "    </tr>\n",
       "    <tr>\n",
       "      <th>total_stock_value</th>\n",
       "      <td>146</td>\n",
       "      <td>125</td>\n",
       "      <td>NaN</td>\n",
       "      <td>20</td>\n",
       "    </tr>\n",
       "    <tr>\n",
       "      <th>expenses</th>\n",
       "      <td>146</td>\n",
       "      <td>95</td>\n",
       "      <td>NaN</td>\n",
       "      <td>51</td>\n",
       "    </tr>\n",
       "    <tr>\n",
       "      <th>loan_advances</th>\n",
       "      <td>146</td>\n",
       "      <td>5</td>\n",
       "      <td>NaN</td>\n",
       "      <td>142</td>\n",
       "    </tr>\n",
       "    <tr>\n",
       "      <th>from_messages</th>\n",
       "      <td>146</td>\n",
       "      <td>65</td>\n",
       "      <td>NaN</td>\n",
       "      <td>60</td>\n",
       "    </tr>\n",
       "    <tr>\n",
       "      <th>other</th>\n",
       "      <td>146</td>\n",
       "      <td>93</td>\n",
       "      <td>NaN</td>\n",
       "      <td>53</td>\n",
       "    </tr>\n",
       "    <tr>\n",
       "      <th>from_this_person_to_poi</th>\n",
       "      <td>146</td>\n",
       "      <td>42</td>\n",
       "      <td>NaN</td>\n",
       "      <td>60</td>\n",
       "    </tr>\n",
       "    <tr>\n",
       "      <th>poi</th>\n",
       "      <td>146</td>\n",
       "      <td>2</td>\n",
       "      <td>False</td>\n",
       "      <td>128</td>\n",
       "    </tr>\n",
       "    <tr>\n",
       "      <th>director_fees</th>\n",
       "      <td>146</td>\n",
       "      <td>18</td>\n",
       "      <td>NaN</td>\n",
       "      <td>129</td>\n",
       "    </tr>\n",
       "    <tr>\n",
       "      <th>deferred_income</th>\n",
       "      <td>146</td>\n",
       "      <td>45</td>\n",
       "      <td>NaN</td>\n",
       "      <td>97</td>\n",
       "    </tr>\n",
       "    <tr>\n",
       "      <th>long_term_incentive</th>\n",
       "      <td>146</td>\n",
       "      <td>53</td>\n",
       "      <td>NaN</td>\n",
       "      <td>80</td>\n",
       "    </tr>\n",
       "    <tr>\n",
       "      <th>email_address</th>\n",
       "      <td>146</td>\n",
       "      <td>112</td>\n",
       "      <td>NaN</td>\n",
       "      <td>35</td>\n",
       "    </tr>\n",
       "    <tr>\n",
       "      <th>from_poi_to_this_person</th>\n",
       "      <td>146</td>\n",
       "      <td>58</td>\n",
       "      <td>NaN</td>\n",
       "      <td>60</td>\n",
       "    </tr>\n",
       "  </tbody>\n",
       "</table>\n",
       "</div>"
      ],
      "text/plain": [
       "                          count unique    top freq\n",
       "salary                      146     95    NaN   51\n",
       "to_messages                 146     87    NaN   60\n",
       "deferral_payments           146     40    NaN  107\n",
       "total_payments              146    126    NaN   21\n",
       "exercised_stock_options     146    102    NaN   44\n",
       "bonus                       146     42    NaN   64\n",
       "restricted_stock            146     98    NaN   36\n",
       "shared_receipt_with_poi     146     84    NaN   60\n",
       "restricted_stock_deferred   146     19    NaN  128\n",
       "total_stock_value           146    125    NaN   20\n",
       "expenses                    146     95    NaN   51\n",
       "loan_advances               146      5    NaN  142\n",
       "from_messages               146     65    NaN   60\n",
       "other                       146     93    NaN   53\n",
       "from_this_person_to_poi     146     42    NaN   60\n",
       "poi                         146      2  False  128\n",
       "director_fees               146     18    NaN  129\n",
       "deferred_income             146     45    NaN   97\n",
       "long_term_incentive         146     53    NaN   80\n",
       "email_address               146    112    NaN   35\n",
       "from_poi_to_this_person     146     58    NaN   60"
      ]
     },
     "execution_count": 3,
     "metadata": {},
     "output_type": "execute_result"
    }
   ],
   "source": [
    "### Load the dictionary containing the dataset into data_dict\n",
    "with open(\"final_project_dataset.pkl\", \"r\") as data_file:\n",
    "    data_dict = pickle.load(data_file)\n",
    "\n",
    "#Convert the data_dict to a dataframe (df) to explore what's in it    \n",
    "df = pd.DataFrame.from_dict(data_dict, orient='index')\n",
    "\n",
    "# Let's see what is in this dataset\n",
    "df.describe().transpose()"
   ]
  },
  {
   "cell_type": "code",
   "execution_count": 4,
   "metadata": {},
   "outputs": [],
   "source": [
    "# We have null values (unique count vs count), so let's replace them with 0.0\n",
    "df.fillna(0, inplace=True)\n",
    "df.replace(to_replace='NaN', value=0.0, inplace=True)"
   ]
  },
  {
   "cell_type": "markdown",
   "metadata": {},
   "source": [
    "## Remove Outliers\n",
    "\n",
    "In order to remove the outliers we must find them first. A simple scatterplot ought to show us how our data is grouped."
   ]
  },
  {
   "cell_type": "code",
   "execution_count": 5,
   "metadata": {},
   "outputs": [
    {
     "data": {
      "text/plain": [
       "<matplotlib.axes._subplots.AxesSubplot at 0x12700e08>"
      ]
     },
     "execution_count": 5,
     "metadata": {},
     "output_type": "execute_result"
    },
    {
     "data": {
      "image/png": "[encoded data removed]",
      "text/plain": [
       "<Figure size 432x288 with 1 Axes>"
      ]
     },
     "metadata": {
      "needs_background": "light"
     },
     "output_type": "display_data"
    }
   ],
   "source": [
    "df.plot.scatter(x = \"salary\", y = \"bonus\")"
   ]
  },
  {
   "cell_type": "markdown",
   "metadata": {},
   "source": [
    "That's quite the outlier in that scatterplot. Let's find out what it is and remove it so we can get a better look at our overall data grouping."
   ]
  },
  {
   "cell_type": "code",
   "execution_count": 6,
   "metadata": {},
   "outputs": [
    {
     "data": {
      "text/plain": [
       "TOTAL                 26704229.0\n",
       "SKILLING JEFFREY K     1111258.0\n",
       "LAY KENNETH L          1072321.0\n",
       "FREVERT MARK A         1060932.0\n",
       "PICKERING MARK R        655037.0\n",
       "Name: salary, dtype: float64"
      ]
     },
     "execution_count": 6,
     "metadata": {},
     "output_type": "execute_result"
    }
   ],
   "source": [
    "# What is the outlier?\n",
    "df['salary'].sort_values(ascending = False).head()"
   ]
  },
  {
   "cell_type": "code",
   "execution_count": 7,
   "metadata": {},
   "outputs": [
    {
     "name": "stdout",
     "output_type": "stream",
     "text": [
      "The outlier is TOTAL.\n"
     ]
    }
   ],
   "source": [
    "print \"The outlier is {0}.\".format(df['salary'].idxmax())"
   ]
  },
  {
   "cell_type": "code",
   "execution_count": 8,
   "metadata": {},
   "outputs": [
    {
     "data": {
      "text/plain": [
       "<matplotlib.axes._subplots.AxesSubplot at 0x12617748>"
      ]
     },
     "execution_count": 8,
     "metadata": {},
     "output_type": "execute_result"
    },
    {
     "data": {
      "image/png": "[encoded data removed]",
      "text/plain": [
       "<Figure size 432x288 with 1 Axes>"
      ]
     },
     "metadata": {
      "needs_background": "light"
     },
     "output_type": "display_data"
    }
   ],
   "source": [
    "#Now let's remove or drop TOTAL so our data is distributed better\n",
    "df.drop('TOTAL', inplace = True)\n",
    "# Update our scatterplot\n",
    "df.plot.scatter(x = \"salary\", y = \"bonus\")"
   ]
  },
  {
   "cell_type": "markdown",
   "metadata": {},
   "source": [
    "### Creating New Features\n",
    "\n",
    "The Enron dataset is used mostly to find those people of interest who were essentially outliers in their own organization. Determining who sent emails to them (to_messages) and from them (from_messages) are major indicators to those exploring this data for insights.\n",
    "\n",
    "To find that we'll compare a person's overall email count to those that were sent to/from a person of interest using 2 new features:\n",
    "\n",
    "<b>ratio_from_poi <br>\n",
    "ratio_to_poi"
   ]
  },
  {
   "cell_type": "code",
   "execution_count": 9,
   "metadata": {},
   "outputs": [],
   "source": [
    "### New features called ratio_from_poi and ratio_to_poi\n",
    "df[\"ratio_from_poi\"] = df[\"from_poi_to_this_person\"].divide(df[\"to_messages\"], fill_value=0.0) \n",
    "df[\"ratio_to_poi\"] = df[\"from_this_person_to_poi\"].divide(df[\"from_messages\"], fill_value=0.0)\n",
    "\n",
    "df['shared_receipt_poi_ratio'] = df['shared_receipt_with_poi'].divide(df['to_messages'], fill_value=0.0)\n",
    "\n",
    "df['bonus_to_salary'] = df['bonus'].divide(df['salary'], fill_value=0.0)\n",
    "df['bonus_to_total'] = df['bonus'].divide(df['total_payments'], fill_value=0.0)\n",
    "\n",
    "df[\"ratio_from_poi\"] = df[\"ratio_from_poi\"].fillna(0.0)\n",
    "df[\"ratio_to_poi\"] = df[\"ratio_to_poi\"].fillna(0.0)\n",
    "\n",
    "df[\"shared_receipt_poi_ratio\"] = df[\"shared_receipt_poi_ratio\"].fillna(0.0)\n",
    "\n",
    "df[\"bonus_to_salary\"] = df[\"bonus_to_salary\"].fillna(0.0)\n",
    "df[\"bonus_to_total\"] = df[\"bonus_to_total\"].fillna(0.0)"
   ]
  },
  {
   "cell_type": "code",
   "execution_count": 10,
   "metadata": {},
   "outputs": [
    {
     "data": {
      "text/plain": [
       "ALLEN PHILLIP K       0.016196\n",
       "BADUM JAMES P         0.000000\n",
       "BANNANTINE JAMES M    0.068905\n",
       "BAXTER JOHN C         0.000000\n",
       "BAY FRANKLIN R        0.000000\n",
       "Name: ratio_from_poi, dtype: float64"
      ]
     },
     "execution_count": 10,
     "metadata": {},
     "output_type": "execute_result"
    }
   ],
   "source": [
    "# this new feature is working\n",
    "df['ratio_from_poi'].head()"
   ]
  },
  {
   "cell_type": "code",
   "execution_count": 11,
   "metadata": {},
   "outputs": [
    {
     "data": {
      "text/plain": [
       "ALLEN PHILLIP K       0.029613\n",
       "BADUM JAMES P         0.000000\n",
       "BANNANTINE JAMES M    0.000000\n",
       "BAXTER JOHN C         0.000000\n",
       "BAY FRANKLIN R        0.000000\n",
       "Name: ratio_to_poi, dtype: float64"
      ]
     },
     "execution_count": 11,
     "metadata": {},
     "output_type": "execute_result"
    }
   ],
   "source": [
    "# and so is this one\n",
    "df['ratio_to_poi'].head()"
   ]
  },
  {
   "cell_type": "code",
   "execution_count": 12,
   "metadata": {},
   "outputs": [
    {
     "data": {
      "image/png": "[encoded data removed]",
      "text/plain": [
       "<Figure size 1368x432 with 3 Axes>"
      ]
     },
     "metadata": {
      "needs_background": "light"
     },
     "output_type": "display_data"
    }
   ],
   "source": [
    "### Let's add the new features to our existing plot to see how they fit\n",
    "figure, (axes1, axes2, axes3) = plt.subplots(nrows=1, ncols=3, figsize=(19,6))\n",
    "\n",
    "colors = np.where(df[\"poi\"] == 1, 'green', 'o')\n",
    "colors[df[\"poi\"] == 0] = 'red'\n",
    "\n",
    "axes1.scatter(df[\"from_poi_to_this_person\"], df[\"from_this_person_to_poi\"], color=colors)\n",
    "axes1.set_xlabel(\"Emails from POI to this person\", fontsize=11)\n",
    "axes1.set_ylabel(\"Emails from this person to POI\", fontsize=11)\n",
    "\n",
    "axes2.scatter(df[\"ratio_from_poi\"], df[\"ratio_to_poi\"], color=colors)\n",
    "axes2.set_xlabel(\"Ratio of emails from POI to this person\", fontsize=11)\n",
    "axes2.set_ylabel(\"Ratio of emails from this person to POI\", fontsize=11)\n",
    "\n",
    "axes3.scatter(df[\"bonus_to_salary\"], df[\"bonus_to_total\"], color=colors)\n",
    "axes3.set_xlabel(\"Bonus to Salary\", fontsize=13)\n",
    "axes3.set_ylabel(\"Bonus to Total\", fontsize=13)\n",
    "\n",
    "plt.show()"
   ]
  },
  {
   "cell_type": "markdown",
   "metadata": {},
   "source": [
    "## To Scale or Not to Scale\n",
    "\n",
    "There are several algorithms that could be used in analyzing the Enron Data. If we were using *K-Means* or *Support Vector Machine (SVM)*, we would need to scale the data due to the distance between the points. It would only take one large feature to offset the other features when calculating the distance.\n",
    "\n",
    "To avoid any feature scaling, let's using the *Naive Bayes* and *Decision Tree* algorithms."
   ]
  },
  {
   "cell_type": "markdown",
   "metadata": {},
   "source": [
    "### Selecting Features\n",
    "\n",
    "When selecting features, we want to eliminate any weak features, those that don't contain a lot of information, and keep the strongest features. We also want a minimal amount of features as to let the algorithms work their 'magic' to the the best of their abilities."
   ]
  },
  {
   "cell_type": "code",
   "execution_count": 13,
   "metadata": {
    "scrolled": true
   },
   "outputs": [
    {
     "data": {
      "text/plain": [
       "[('exercised_stock_options', 25.3801052997602),\n",
       " ('total_stock_value', 24.752523020258508),\n",
       " ('bonus_to_total', 21.262083416531794),\n",
       " ('ratio_to_poi', 16.873870264572993),\n",
       " ('deferred_income', 11.732698076065354),\n",
       " ('bonus_to_salary', 11.127882811026838),\n",
       " ('long_term_incentive', 10.222904205832778),\n",
       " ('shared_receipt_poi_ratio', 9.49145795071451),\n",
       " ('restricted_stock', 9.480743203478934),\n",
       " ('loan_advances', 7.301406651536036),\n",
       " ('expenses', 6.3746144901977475),\n",
       " ('from_poi_to_this_person', 5.446687483325353),\n",
       " ('other', 4.263576638144469),\n",
       " ('ratio_from_poi', 3.293828632029562),\n",
       " ('from_this_person_to_poi', 2.470521222656084),\n",
       " ('director_fees', 2.0893098994318806),\n",
       " ('to_messages', 1.7516942790340737),\n",
       " ('deferral_payments', 0.20970584227026345),\n",
       " ('from_messages', 0.1587702392129193),\n",
       " ('restricted_stock_deferred', 0.0644770280387286)]"
      ]
     },
     "execution_count": 13,
     "metadata": {},
     "output_type": "execute_result"
    }
   ],
   "source": [
    "# We must convert the boolean type in the poi column to float values in order\n",
    "# to classify them\n",
    "df[\"poi\"] = df[\"poi\"].astype(float)\n",
    "\n",
    "features_list = ['to_messages', 'deferral_payments', 'bonus_to_salary',\n",
    "                 'loan_advances', 'bonus_to_total', 'restricted_stock_deferred',\n",
    "                 'deferred_income', 'total_stock_value', 'expenses',\n",
    "                 'from_poi_to_this_person', 'exercised_stock_options', 'from_messages',\n",
    "                 'other', 'from_this_person_to_poi', 'long_term_incentive',\n",
    "                 'shared_receipt_poi_ratio', 'restricted_stock', 'director_fees',\n",
    "                 'ratio_from_poi', 'ratio_to_poi']\n",
    "\n",
    "labels = df[\"poi\"].tolist()\n",
    "features = df[features_list].values.tolist()\n",
    "\n",
    "from sklearn.feature_selection import SelectKBest, f_classif\n",
    "# Using the f_classif function from SelectKBest to score our features list\n",
    "selector = SelectKBest(f_classif, k = 20)\n",
    "selector.fit(features, labels)\n",
    "\n",
    "#scores = -np.log10(selector.pvalues_)\n",
    "scores = selector.scores_\n",
    "\n",
    "unsorted_pairs = zip(features_list, scores)\n",
    "sorted_pairs = list(reversed(sorted(unsorted_pairs, key=lambda x: x[1])))\n",
    "sorted_pairs"
   ]
  },
  {
   "cell_type": "code",
   "execution_count": 14,
   "metadata": {},
   "outputs": [
    {
     "data": {
      "image/png": "[encoded data removed]",
      "text/plain": [
       "<Figure size 720x792 with 1 Axes>"
      ]
     },
     "metadata": {
      "needs_background": "light"
     },
     "output_type": "display_data"
    }
   ],
   "source": [
    "# A bar graph to show the scores side by side\n",
    "figure, axes = plt.subplots(figsize=(10,11))\n",
    "axes.barh(features_list, width = scores, color = \"green\")\n",
    "axes.set_title(\"Feature Scores\", fontsize = 14)\n",
    "axes.set_xlabel(\"KBest Scores\")\n",
    "axes.set_ylabel(\"Features\")\n",
    "plt.show()"
   ]
  },
  {
   "cell_type": "markdown",
   "metadata": {},
   "source": [
    "### Removing the lowest scored features\n",
    "\n",
    "After reviewing the graph above, we can elimiate quite a few features from our list. Essentially any feature that scored less than 2 can be removed."
   ]
  },
  {
   "cell_type": "code",
   "execution_count": 15,
   "metadata": {},
   "outputs": [
    {
     "name": "stdout",
     "output_type": "stream",
     "text": [
      "The number of features we're now using is 10.\n"
     ]
    }
   ],
   "source": [
    "features_list = [\"bonus_to_total\", \"loan_advances\", \"bonus_to_salary\", \"deferred_income\", \n",
    "\"total_stock_value\", \"exercised_stock_options\", \"long_term_incentive\",\n",
    "\"shared_receipt_poi_ratio\", \"restricted_stock\", \"ratio_to_poi\"]\n",
    "\n",
    "print \"The number of features we're now using is {0}.\".format(len(features_list))"
   ]
  },
  {
   "cell_type": "code",
   "execution_count": 16,
   "metadata": {},
   "outputs": [],
   "source": [
    "labels = df[\"poi\"].tolist()\n",
    "features = df[features_list].values.tolist()"
   ]
  },
  {
   "cell_type": "markdown",
   "metadata": {},
   "source": [
    "### Applying Algorithms\n",
    "\n",
    "We'll be using Decision Tree, Naive Bayes, Random Forest, AdaBoost and K-Nearest Neighbors"
   ]
  },
  {
   "cell_type": "code",
   "execution_count": 17,
   "metadata": {},
   "outputs": [],
   "source": [
    "# Extract features and labels from dataset for local testing\n",
    "from sklearn.model_selection import train_test_split, GridSearchCV \n",
    "\n",
    "# Split the data into 70% train data and 30% test data\n",
    "features_train, features_test, labels_train, labels_test = train_test_split(features, labels, test_size = 0.3, random_state = 65)"
   ]
  },
  {
   "cell_type": "markdown",
   "metadata": {},
   "source": [
    "### Decision Tree Classifier"
   ]
  },
  {
   "cell_type": "code",
   "execution_count": 18,
   "metadata": {},
   "outputs": [
    {
     "name": "stdout",
     "output_type": "stream",
     "text": [
      "Decision Tree Classifier: \n",
      "Accuracy: 0.8181818181818182\n",
      "Precision Score: 0.42857142857142855\n",
      "Recall Score: 0.42857142857142855\n",
      "F1 Score: 0.42857142857142855\n"
     ]
    }
   ],
   "source": [
    "# import the decisiontreeclassifier from sklearn\n",
    "from sklearn.tree import DecisionTreeClassifier\n",
    "from sklearn.metrics import accuracy_score, precision_score, recall_score, f1_score\n",
    "\n",
    "# apply some random parameters\n",
    "clf = DecisionTreeClassifier(max_depth = 5, random_state = 45)\n",
    "clf.fit(features_train,labels_train)\n",
    "pred = clf.predict(features_test)\n",
    "\n",
    "# Now let's see those metrics\n",
    "from sklearn.metrics import accuracy_score\n",
    "accuracy = accuracy_score(labels_test,pred)\n",
    "print (\"Decision Tree Classifier: \")\n",
    "print \"Accuracy: \" + str(accuracy)\n",
    "print \"Precision Score: \" + str(precision_score(labels_test,pred))\n",
    "print \"Recall Score: \" + str(recall_score(labels_test,pred))\n",
    "print \"F1 Score: \" + str(f1_score(labels_test,pred))"
   ]
  },
  {
   "cell_type": "markdown",
   "metadata": {},
   "source": [
    "### Naive Bayes Classifier"
   ]
  },
  {
   "cell_type": "code",
   "execution_count": 19,
   "metadata": {},
   "outputs": [
    {
     "name": "stdout",
     "output_type": "stream",
     "text": [
      "Naive Bayes Classifier: \n",
      "Accuracy: 0.8636363636363636\n",
      "Precision Score: 0.6\n",
      "Recall Score: 0.42857142857142855\n",
      "F1 Score: 0.5\n"
     ]
    }
   ],
   "source": [
    "# import NaiveBayes from sklearn\n",
    "from sklearn.naive_bayes import GaussianNB\n",
    "\n",
    "# default parameters\n",
    "clf = GaussianNB()\n",
    "clf.fit(features_train,labels_train)\n",
    "pred = clf.predict(features_test)\n",
    "\n",
    "# Now let's see those metrics\n",
    "accuracy = accuracy_score(labels_test,pred)\n",
    "print(\"Naive Bayes Classifier: \")\n",
    "print \"Accuracy: \" + str(accuracy)\n",
    "print \"Precision Score: \" + str(precision_score(labels_test,pred))\n",
    "print \"Recall Score: \" + str(recall_score(labels_test,pred))\n",
    "print \"F1 Score: \" + str(f1_score(labels_test,pred))"
   ]
  },
  {
   "cell_type": "markdown",
   "metadata": {},
   "source": [
    "### Random Forest Classifier"
   ]
  },
  {
   "cell_type": "code",
   "execution_count": 20,
   "metadata": {},
   "outputs": [
    {
     "name": "stdout",
     "output_type": "stream",
     "text": [
      "Random Forest Classifier: \n",
      "Accuracy: 0.8409090909090909\n",
      "Precision Score: 0.5\n",
      "Recall Score: 0.14285714285714285\n",
      "F1 Score: 0.22222222222222224\n"
     ]
    }
   ],
   "source": [
    "# import RandomForest from sklearn\n",
    "from sklearn.ensemble import RandomForestClassifier\n",
    "\n",
    "# put in some random parameters\n",
    "clf = RandomForestClassifier(random_state = 45, n_estimators = 150)\n",
    "clf.fit(features_train,labels_train)\n",
    "pred = clf.predict(features_test)\n",
    "accuracy = accuracy_score(labels_test,pred)\n",
    "\n",
    "# Now let's see those metrics\n",
    "print (\"Random Forest Classifier: \")\n",
    "print \"Accuracy: \" + str(accuracy)\n",
    "print \"Precision Score: \" + str(precision_score(labels_test,pred))\n",
    "print \"Recall Score: \" + str(recall_score(labels_test,pred))\n",
    "print \"F1 Score: \" + str(f1_score(labels_test,pred))"
   ]
  },
  {
   "cell_type": "markdown",
   "metadata": {},
   "source": [
    "### Ada Boost Classifier"
   ]
  },
  {
   "cell_type": "code",
   "execution_count": 21,
   "metadata": {},
   "outputs": [
    {
     "name": "stdout",
     "output_type": "stream",
     "text": [
      "AdaBoost Classifier: \n",
      "Accuracy: 0.8409090909090909\n",
      "Precision Score: 0.5\n",
      "Recall Score: 0.42857142857142855\n",
      "F1 Score: 0.4615384615384615\n"
     ]
    }
   ],
   "source": [
    "# import AdaBoost from sklearn\n",
    "from sklearn.ensemble import AdaBoostClassifier\n",
    "\n",
    "# default parameters\n",
    "clf = AdaBoostClassifier()\n",
    "clf.fit(features_train,labels_train)\n",
    "pred = clf.predict(features_test)\n",
    "accuracy = accuracy_score(labels_test,pred)\n",
    "\n",
    "# Now let's see those metrics\n",
    "print (\"AdaBoost Classifier: \")\n",
    "print \"Accuracy: \" + str(accuracy)\n",
    "print \"Precision Score: \" + str(precision_score(labels_test,pred))\n",
    "print \"Recall Score: \" + str(recall_score(labels_test,pred))\n",
    "print \"F1 Score: \" + str(f1_score(labels_test,pred))"
   ]
  },
  {
   "cell_type": "markdown",
   "metadata": {},
   "source": [
    "### K-Nearest Neighbors Classifier"
   ]
  },
  {
   "cell_type": "code",
   "execution_count": 22,
   "metadata": {},
   "outputs": [
    {
     "name": "stdout",
     "output_type": "stream",
     "text": [
      "K-Nearest Neighbors Classifier: \n",
      "Accuracy: 0.8181818181818182\n",
      "Precision Score: 0.0\n",
      "Recall Score: 0.0\n",
      "F1 Score: 0.0\n"
     ]
    }
   ],
   "source": [
    "# import KNN from sklearn\n",
    "from sklearn.neighbors import KNeighborsClassifier\n",
    "\n",
    "# parameter of 3\n",
    "clf = KNeighborsClassifier(3)\n",
    "clf.fit(features_train,labels_train)\n",
    "pred = clf.predict(features_test)\n",
    "accuracy = accuracy_score(labels_test,pred)\n",
    "\n",
    "# Now let's see those metrics\n",
    "print (\"K-Nearest Neighbors Classifier: \")\n",
    "print \"Accuracy: \" + str(accuracy)\n",
    "print \"Precision Score: \" + str(precision_score(labels_test,pred))\n",
    "print \"Recall Score: \" + str(recall_score(labels_test,pred))\n",
    "print \"F1 Score: \" + str(f1_score(labels_test,pred))"
   ]
  },
  {
   "cell_type": "markdown",
   "metadata": {},
   "source": [
    "### Hyperparameter Tuning AdaBoost Model\n",
    "\n",
    "In order to tune the hyperparameters there are several things that we need to do. First we need to initiate our AdaBoostClassifier with some basic settings. Then we need to create our search grid with the hyperparameters. We will do this by using GridSearchCV. GridSearchCV allows us to run our algorithm several times using the parameters we suggest. For this grid, there are two hyperparameters that we will set and they are *number of estimators (n_estimators)* and the *learning rate* (learning_rate).\n",
    "\n",
    "*Number of estimators* has to do with how many trees are developed. The *learning rate* indicates how each tree contributes to the overall results. We have to place in the grid several values for each of these. Once we set the arguments for the AdaBoostClassifier and the search grid, we then combine all this information into an object called *search*. I used the accuracy parameter from scoring to find a higher accuracy than our initial 80%."
   ]
  },
  {
   "cell_type": "code",
   "execution_count": 23,
   "metadata": {},
   "outputs": [],
   "source": [
    "# Setting AdaBoostClassifier to an object called ada, necessary for GridSearchCV to work\n",
    "ada = AdaBoostClassifier()\n",
    "\n",
    "# test parameters to feed the GridsearchCV and return the highest AdaBoost accuracy score\n",
    "search_grid={'n_estimators':[500,1000,2000],'learning_rate':[.001,0.01,.1]}\n",
    "\n",
    "# Apply StratifiedShuffleSplit to run our numerous algorithm folds\n",
    "from sklearn.model_selection import StratifiedShuffleSplit\n",
    "\n",
    "# Running 3 random folds, with a test size of 30%\n",
    "cv = StratifiedShuffleSplit(n_splits=3, test_size=0.3, random_state=70)\n",
    "search = GridSearchCV(estimator = ada,param_grid = search_grid, scoring = 'accuracy', n_jobs = 1, cv=cv)"
   ]
  },
  {
   "cell_type": "code",
   "execution_count": 24,
   "metadata": {},
   "outputs": [
    {
     "data": {
      "text/plain": [
       "{'learning_rate': 0.01, 'n_estimators': 500}"
      ]
     },
     "execution_count": 24,
     "metadata": {},
     "output_type": "execute_result"
    }
   ],
   "source": [
    "# This will return the overall best parameters to use in another AdaBoost algorithm \n",
    "# to return the highest accuracy score\n",
    "search.fit(features,labels)\n",
    "search.best_params_"
   ]
  },
  {
   "cell_type": "code",
   "execution_count": 25,
   "metadata": {},
   "outputs": [
    {
     "data": {
      "text/plain": [
       "0.9242424242424242"
      ]
     },
     "execution_count": 25,
     "metadata": {},
     "output_type": "execute_result"
    }
   ],
   "source": [
    "# This is the best possible score using the parameters we fed the GridSearch\n",
    "search.best_score_"
   ]
  },
  {
   "cell_type": "markdown",
   "metadata": {},
   "source": [
    "Now we can see that setting the learning rate to 0.01 and the estimators to 500 will return the highest accuracy for our model. It can potentially return 92% which is much higher than our original AdaBoost algorithm but now with more consistent results. "
   ]
  },
  {
   "cell_type": "code",
   "execution_count": 26,
   "metadata": {},
   "outputs": [
    {
     "data": {
      "text/plain": [
       "0.8863636363636364"
      ]
     },
     "execution_count": 26,
     "metadata": {},
     "output_type": "execute_result"
    }
   ],
   "source": [
    "# Now we'll apply our newly fine tuned parameters to an Adaboost algorithm\n",
    "from sklearn.model_selection import cross_val_score\n",
    "# Using cross validation to find the mean of a few splits of our data\n",
    "score=np.mean(cross_val_score(ada,features, labels,scoring='accuracy',cv=cv,n_jobs=1))\n",
    "score"
   ]
  },
  {
   "cell_type": "markdown",
   "metadata": {},
   "source": [
    "Using cross validation to find the mean accuracy of a section of our data returns a much improved 88% accuracy to our dataset. Now let's run our initial AdaBoost Classifier, only this time using our hyperparameters. My prediction is we will see an increase in all of our metrics, accuracy included."
   ]
  },
  {
   "cell_type": "code",
   "execution_count": 27,
   "metadata": {},
   "outputs": [
    {
     "name": "stdout",
     "output_type": "stream",
     "text": [
      "AdaBoost Classifier: \n",
      "Accuracy: 0.8636363636363636\n",
      "Precision Score: 0.6666666666666666\n",
      "Recall Score: 0.2857142857142857\n",
      "F1 Score: 0.4\n"
     ]
    }
   ],
   "source": [
    "# Our hypertuned parameters are now applied\n",
    "clf = AdaBoostClassifier(learning_rate = 0.01, n_estimators = 500)\n",
    "clf.fit(features_train,labels_train)\n",
    "pred = clf.predict(features_test)\n",
    "accuracy = accuracy_score(labels_test,pred)\n",
    "\n",
    "# Now let's see those metrics\n",
    "print \"AdaBoost Classifier: \"\n",
    "print \"Accuracy: \" + str(accuracy)\n",
    "print \"Precision Score: \" + str(precision_score(labels_test,pred))\n",
    "print \"Recall Score: \" + str(recall_score(labels_test,pred))\n",
    "print \"F1 Score: \" + str(f1_score(labels_test,pred))"
   ]
  },
  {
   "cell_type": "markdown",
   "metadata": {},
   "source": [
    "### Conclusion"
   ]
  },
  {
   "cell_type": "markdown",
   "metadata": {},
   "source": [
    "After tuning our Adaboost classifier using our hyperparameters, we received a 4% boost in our accuracy using our feature set. This means we could potentially identify a POI from our dataset with an 88% chance of choosing whether the POI was true. While all of our metrics increased as well, there is still room for improvement. A similar process from hypertuning parameters could be set up to increase precision, recall and our f1 score. Right now our precision of 66% means we'd be finding 33% false positive flags which doesn't sit well with me. I also think there are other features we could explore and I bet there are more outliers in that data as well."
   ]
  }
 ],
 "metadata": {
  "kernelspec": {
   "display_name": "Python 2",
   "language": "python",
   "name": "python2"
  },
  "language_info": {
   "codemirror_mode": {
    "name": "ipython",
    "version": 2
   },
   "file_extension": ".py",
   "mimetype": "text/x-python",
   "name": "python",
   "nbconvert_exporter": "python",
   "pygments_lexer": "ipython2",
   "version": "2.7.18"
  }
 },
 "nbformat": 4,
 "nbformat_minor": 2
}
