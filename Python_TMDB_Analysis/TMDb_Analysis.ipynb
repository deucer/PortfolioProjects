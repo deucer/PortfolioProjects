{
 "cells": [
  {
   "cell_type": "markdown",
   "metadata": {},
   "source": [
    "# Investigate a Dataset: An analysis of the The Movie Database (TMDb)\n",
    "\n",
    "## Table of Contents\n",
    "<ul>\n",
    "<li><a href=\"#intro\">Introduction</a></li>\n",
    "<li><a href=\"#wrangling\">Data Wrangling</a></li>\n",
    "<li><a href=\"#eda\">Exploratory Data Analysis</a></li>\n",
    "<li><a href=\"#conclusions\">Conclusions</a></li>\n",
    "</ul>"
   ]
  },
  {
   "cell_type": "markdown",
   "metadata": {},
   "source": [
    "***\n",
    "<a id='intro'></a>\n",
    "## Introduction\n",
    "\n",
    "I have chosen to use the TMDb data set to answer a series of questions pertaining to the movie industry. This data originated from <a href=\"https://www.kaggle.com/juzershakir/tmdb-movies-dataset\">Kaggle</a> but has since been cleaned by  Udacity. This data set contains information about 10,000 movies collected from The Movie Database (TMDb).\n",
    "\n",
    "Questions that I will attempt to answer in this analysis:\n",
    "1. Which movies had the highest and which had the lowest profits?\n",
    "2. Who are the directors that are producing the most profits in the movie industry?\n",
    "3. Which actors appeared in the most movies?\n",
    "4. Which movies had the longest runtimes and which had the shortest runtimes?\n",
    "5. Average runtimes and the impact on movie profits"
   ]
  },
  {
   "cell_type": "code",
   "execution_count": 1,
   "metadata": {},
   "outputs": [],
   "source": [
    "#Importing all of the necessary libraries\n",
    "import matplotlib.pyplot as plt\n",
    "import pandas as pd\n",
    "import numpy as np\n",
    "import csv\n",
    "%matplotlib inline"
   ]
  },
  {
   "cell_type": "markdown",
   "metadata": {},
   "source": [
    "***\n",
    "<a id='wrangling'></a>\n",
    "## Data Wrangling\n",
    "\n",
    "This set has been organized into 21 columns: <b>id, imdb_id, popularity, budget, revenue, original_title, cast, homepage, director, tagline, keywords, overview, runtime, genres, production_companies, release_date, vote_count, vote_average, release_year, budget_adj, revenue_adj</b>. Several of these columns will not be necessary during the analysis and an explanation will be provided for removing the unnecessary columns.\n",
    "\n",
    "### General Properties"
   ]
  },
  {
   "cell_type": "code",
   "execution_count": 2,
   "metadata": {},
   "outputs": [
    {
     "data": {
      "text/html": [
       "<div>\n",
       "<style scoped>\n",
       "    .dataframe tbody tr th:only-of-type {\n",
       "        vertical-align: middle;\n",
       "    }\n",
       "\n",
       "    .dataframe tbody tr th {\n",
       "        vertical-align: top;\n",
       "    }\n",
       "\n",
       "    .dataframe thead th {\n",
       "        text-align: right;\n",
       "    }\n",
       "</style>\n",
       "<table border=\"1\" class=\"dataframe\">\n",
       "  <thead>\n",
       "    <tr style=\"text-align: right;\">\n",
       "      <th></th>\n",
       "      <th>id</th>\n",
       "      <th>imdb_id</th>\n",
       "      <th>popularity</th>\n",
       "      <th>budget</th>\n",
       "      <th>revenue</th>\n",
       "      <th>original_title</th>\n",
       "      <th>cast</th>\n",
       "      <th>homepage</th>\n",
       "      <th>director</th>\n",
       "      <th>tagline</th>\n",
       "      <th>...</th>\n",
       "      <th>overview</th>\n",
       "      <th>runtime</th>\n",
       "      <th>genres</th>\n",
       "      <th>production_companies</th>\n",
       "      <th>release_date</th>\n",
       "      <th>vote_count</th>\n",
       "      <th>vote_average</th>\n",
       "      <th>release_year</th>\n",
       "      <th>budget_adj</th>\n",
       "      <th>revenue_adj</th>\n",
       "    </tr>\n",
       "  </thead>\n",
       "  <tbody>\n",
       "    <tr>\n",
       "      <th>0</th>\n",
       "      <td>135397</td>\n",
       "      <td>tt0369610</td>\n",
       "      <td>32.985763</td>\n",
       "      <td>150000000</td>\n",
       "      <td>1513528810</td>\n",
       "      <td>Jurassic World</td>\n",
       "      <td>Chris Pratt|Bryce Dallas Howard|Irrfan Khan|Vi...</td>\n",
       "      <td>http://www.jurassicworld.com/</td>\n",
       "      <td>Colin Trevorrow</td>\n",
       "      <td>The park is open.</td>\n",
       "      <td>...</td>\n",
       "      <td>Twenty-two years after the events of Jurassic ...</td>\n",
       "      <td>124</td>\n",
       "      <td>Action|Adventure|Science Fiction|Thriller</td>\n",
       "      <td>Universal Studios|Amblin Entertainment|Legenda...</td>\n",
       "      <td>6/9/15</td>\n",
       "      <td>5562</td>\n",
       "      <td>6.5</td>\n",
       "      <td>2015</td>\n",
       "      <td>1.379999e+08</td>\n",
       "      <td>1.392446e+09</td>\n",
       "    </tr>\n",
       "    <tr>\n",
       "      <th>1</th>\n",
       "      <td>76341</td>\n",
       "      <td>tt1392190</td>\n",
       "      <td>28.419936</td>\n",
       "      <td>150000000</td>\n",
       "      <td>378436354</td>\n",
       "      <td>Mad Max: Fury Road</td>\n",
       "      <td>Tom Hardy|Charlize Theron|Hugh Keays-Byrne|Nic...</td>\n",
       "      <td>http://www.madmaxmovie.com/</td>\n",
       "      <td>George Miller</td>\n",
       "      <td>What a Lovely Day.</td>\n",
       "      <td>...</td>\n",
       "      <td>An apocalyptic story set in the furthest reach...</td>\n",
       "      <td>120</td>\n",
       "      <td>Action|Adventure|Science Fiction|Thriller</td>\n",
       "      <td>Village Roadshow Pictures|Kennedy Miller Produ...</td>\n",
       "      <td>5/13/15</td>\n",
       "      <td>6185</td>\n",
       "      <td>7.1</td>\n",
       "      <td>2015</td>\n",
       "      <td>1.379999e+08</td>\n",
       "      <td>3.481613e+08</td>\n",
       "    </tr>\n",
       "    <tr>\n",
       "      <th>2</th>\n",
       "      <td>262500</td>\n",
       "      <td>tt2908446</td>\n",
       "      <td>13.112507</td>\n",
       "      <td>110000000</td>\n",
       "      <td>295238201</td>\n",
       "      <td>Insurgent</td>\n",
       "      <td>Shailene Woodley|Theo James|Kate Winslet|Ansel...</td>\n",
       "      <td>http://www.thedivergentseries.movie/#insurgent</td>\n",
       "      <td>Robert Schwentke</td>\n",
       "      <td>One Choice Can Destroy You</td>\n",
       "      <td>...</td>\n",
       "      <td>Beatrice Prior must confront her inner demons ...</td>\n",
       "      <td>119</td>\n",
       "      <td>Adventure|Science Fiction|Thriller</td>\n",
       "      <td>Summit Entertainment|Mandeville Films|Red Wago...</td>\n",
       "      <td>3/18/15</td>\n",
       "      <td>2480</td>\n",
       "      <td>6.3</td>\n",
       "      <td>2015</td>\n",
       "      <td>1.012000e+08</td>\n",
       "      <td>2.716190e+08</td>\n",
       "    </tr>\n",
       "    <tr>\n",
       "      <th>3</th>\n",
       "      <td>140607</td>\n",
       "      <td>tt2488496</td>\n",
       "      <td>11.173104</td>\n",
       "      <td>200000000</td>\n",
       "      <td>2068178225</td>\n",
       "      <td>Star Wars: The Force Awakens</td>\n",
       "      <td>Harrison Ford|Mark Hamill|Carrie Fisher|Adam D...</td>\n",
       "      <td>http://www.starwars.com/films/star-wars-episod...</td>\n",
       "      <td>J.J. Abrams</td>\n",
       "      <td>Every generation has a story.</td>\n",
       "      <td>...</td>\n",
       "      <td>Thirty years after defeating the Galactic Empi...</td>\n",
       "      <td>136</td>\n",
       "      <td>Action|Adventure|Science Fiction|Fantasy</td>\n",
       "      <td>Lucasfilm|Truenorth Productions|Bad Robot</td>\n",
       "      <td>12/15/15</td>\n",
       "      <td>5292</td>\n",
       "      <td>7.5</td>\n",
       "      <td>2015</td>\n",
       "      <td>1.839999e+08</td>\n",
       "      <td>1.902723e+09</td>\n",
       "    </tr>\n",
       "    <tr>\n",
       "      <th>4</th>\n",
       "      <td>168259</td>\n",
       "      <td>tt2820852</td>\n",
       "      <td>9.335014</td>\n",
       "      <td>190000000</td>\n",
       "      <td>1506249360</td>\n",
       "      <td>Furious 7</td>\n",
       "      <td>Vin Diesel|Paul Walker|Jason Statham|Michelle ...</td>\n",
       "      <td>http://www.furious7.com/</td>\n",
       "      <td>James Wan</td>\n",
       "      <td>Vengeance Hits Home</td>\n",
       "      <td>...</td>\n",
       "      <td>Deckard Shaw seeks revenge against Dominic Tor...</td>\n",
       "      <td>137</td>\n",
       "      <td>Action|Crime|Thriller</td>\n",
       "      <td>Universal Pictures|Original Film|Media Rights ...</td>\n",
       "      <td>4/1/15</td>\n",
       "      <td>2947</td>\n",
       "      <td>7.3</td>\n",
       "      <td>2015</td>\n",
       "      <td>1.747999e+08</td>\n",
       "      <td>1.385749e+09</td>\n",
       "    </tr>\n",
       "  </tbody>\n",
       "</table>\n",
       "<p>5 rows × 21 columns</p>\n",
       "</div>"
      ],
      "text/plain": [
       "       id    imdb_id  popularity     budget     revenue  \\\n",
       "0  135397  tt0369610   32.985763  150000000  1513528810   \n",
       "1   76341  tt1392190   28.419936  150000000   378436354   \n",
       "2  262500  tt2908446   13.112507  110000000   295238201   \n",
       "3  140607  tt2488496   11.173104  200000000  2068178225   \n",
       "4  168259  tt2820852    9.335014  190000000  1506249360   \n",
       "\n",
       "                 original_title  \\\n",
       "0                Jurassic World   \n",
       "1            Mad Max: Fury Road   \n",
       "2                     Insurgent   \n",
       "3  Star Wars: The Force Awakens   \n",
       "4                     Furious 7   \n",
       "\n",
       "                                                cast  \\\n",
       "0  Chris Pratt|Bryce Dallas Howard|Irrfan Khan|Vi...   \n",
       "1  Tom Hardy|Charlize Theron|Hugh Keays-Byrne|Nic...   \n",
       "2  Shailene Woodley|Theo James|Kate Winslet|Ansel...   \n",
       "3  Harrison Ford|Mark Hamill|Carrie Fisher|Adam D...   \n",
       "4  Vin Diesel|Paul Walker|Jason Statham|Michelle ...   \n",
       "\n",
       "                                            homepage          director  \\\n",
       "0                      http://www.jurassicworld.com/   Colin Trevorrow   \n",
       "1                        http://www.madmaxmovie.com/     George Miller   \n",
       "2     http://www.thedivergentseries.movie/#insurgent  Robert Schwentke   \n",
       "3  http://www.starwars.com/films/star-wars-episod...       J.J. Abrams   \n",
       "4                           http://www.furious7.com/         James Wan   \n",
       "\n",
       "                         tagline  ...  \\\n",
       "0              The park is open.  ...   \n",
       "1             What a Lovely Day.  ...   \n",
       "2     One Choice Can Destroy You  ...   \n",
       "3  Every generation has a story.  ...   \n",
       "4            Vengeance Hits Home  ...   \n",
       "\n",
       "                                            overview runtime  \\\n",
       "0  Twenty-two years after the events of Jurassic ...     124   \n",
       "1  An apocalyptic story set in the furthest reach...     120   \n",
       "2  Beatrice Prior must confront her inner demons ...     119   \n",
       "3  Thirty years after defeating the Galactic Empi...     136   \n",
       "4  Deckard Shaw seeks revenge against Dominic Tor...     137   \n",
       "\n",
       "                                      genres  \\\n",
       "0  Action|Adventure|Science Fiction|Thriller   \n",
       "1  Action|Adventure|Science Fiction|Thriller   \n",
       "2         Adventure|Science Fiction|Thriller   \n",
       "3   Action|Adventure|Science Fiction|Fantasy   \n",
       "4                      Action|Crime|Thriller   \n",
       "\n",
       "                                production_companies release_date vote_count  \\\n",
       "0  Universal Studios|Amblin Entertainment|Legenda...       6/9/15       5562   \n",
       "1  Village Roadshow Pictures|Kennedy Miller Produ...      5/13/15       6185   \n",
       "2  Summit Entertainment|Mandeville Films|Red Wago...      3/18/15       2480   \n",
       "3          Lucasfilm|Truenorth Productions|Bad Robot     12/15/15       5292   \n",
       "4  Universal Pictures|Original Film|Media Rights ...       4/1/15       2947   \n",
       "\n",
       "   vote_average  release_year    budget_adj   revenue_adj  \n",
       "0           6.5          2015  1.379999e+08  1.392446e+09  \n",
       "1           7.1          2015  1.379999e+08  3.481613e+08  \n",
       "2           6.3          2015  1.012000e+08  2.716190e+08  \n",
       "3           7.5          2015  1.839999e+08  1.902723e+09  \n",
       "4           7.3          2015  1.747999e+08  1.385749e+09  \n",
       "\n",
       "[5 rows x 21 columns]"
      ]
     },
     "execution_count": 2,
     "metadata": {},
     "output_type": "execute_result"
    }
   ],
   "source": [
    "#Creating a new series called tmdb_dataset containing all of the csv data\n",
    "tmdb_dataset = pd.read_csv('tmdb-movies.csv')\n",
    "\n",
    "#The first five rows of the data\n",
    "tmdb_dataset.head()"
   ]
  },
  {
   "cell_type": "markdown",
   "metadata": {},
   "source": [
    "After initially reviewing the data, a couple of items stand out:\n",
    "1. Vote count, vote average and popularity won't be valuable for this analysis as they are different for all movies and subjective.\n",
    "2. An assumption that all currency is USD (United States Dollar). It would be nice if the data stated what currency was used so we'll assume it's USD as well.\n",
    "3. Several items contain zeroes and/or numbers that are not reasonable. Example: The budget for Karate Kid, Part II given in the csv file is 113 dollars. According to <a href=\"https://en.wikipedia.org/wiki/The_Karate_Kid_Part_II\">Wikipedia</a>, the budget is \\\\$13 million dollars, which is a very big discrepancy. There are 5755 records that have a budget below \\\\$750 dollars. We will have to figure out how to remedy these incorrect budgets and zeroed-out budgets during our data cleaning phase."
   ]
  },
  {
   "cell_type": "markdown",
   "metadata": {
    "collapsed": true
   },
   "source": [
    "***\n",
    "### Data Cleaning - What data is extraneous, what data is missing and how are we going to fix it?\n",
    "\n",
    "\n",
    "Several columns will need to be dropped as they are not needed and/or hold no value in this analysis:\n",
    "<b>id, imdb_id, popularity, homepage, tagline, keywords, overview, vote_count, vote_average</b>\n",
    "\n",
    "Once these columns are dropped, we are left with 13 columns:\n",
    "<b>budget, revenue, original_title, cast, director, runtime, genres, production_companies, release_date, release_year, budget_adj, revenue_adj</b>"
   ]
  },
  {
   "cell_type": "code",
   "execution_count": 3,
   "metadata": {},
   "outputs": [],
   "source": [
    "#Let's drop those now\n",
    "drop_columns = ['id', 'imdb_id', 'popularity', 'homepage', 'tagline', 'keywords', 'overview', 'vote_count', 'vote_average']\n",
    "tmdb_dataset= tmdb_dataset.drop(drop_columns, 1)"
   ]
  },
  {
   "cell_type": "code",
   "execution_count": 4,
   "metadata": {},
   "outputs": [
    {
     "data": {
      "text/html": [
       "<div>\n",
       "<style scoped>\n",
       "    .dataframe tbody tr th:only-of-type {\n",
       "        vertical-align: middle;\n",
       "    }\n",
       "\n",
       "    .dataframe tbody tr th {\n",
       "        vertical-align: top;\n",
       "    }\n",
       "\n",
       "    .dataframe thead th {\n",
       "        text-align: right;\n",
       "    }\n",
       "</style>\n",
       "<table border=\"1\" class=\"dataframe\">\n",
       "  <thead>\n",
       "    <tr style=\"text-align: right;\">\n",
       "      <th></th>\n",
       "      <th>budget</th>\n",
       "      <th>revenue</th>\n",
       "      <th>original_title</th>\n",
       "      <th>cast</th>\n",
       "      <th>director</th>\n",
       "      <th>runtime</th>\n",
       "      <th>genres</th>\n",
       "      <th>production_companies</th>\n",
       "      <th>release_date</th>\n",
       "      <th>release_year</th>\n",
       "      <th>budget_adj</th>\n",
       "      <th>revenue_adj</th>\n",
       "    </tr>\n",
       "  </thead>\n",
       "  <tbody>\n",
       "    <tr>\n",
       "      <th>0</th>\n",
       "      <td>150000000</td>\n",
       "      <td>1513528810</td>\n",
       "      <td>Jurassic World</td>\n",
       "      <td>Chris Pratt|Bryce Dallas Howard|Irrfan Khan|Vi...</td>\n",
       "      <td>Colin Trevorrow</td>\n",
       "      <td>124</td>\n",
       "      <td>Action|Adventure|Science Fiction|Thriller</td>\n",
       "      <td>Universal Studios|Amblin Entertainment|Legenda...</td>\n",
       "      <td>6/9/15</td>\n",
       "      <td>2015</td>\n",
       "      <td>1.379999e+08</td>\n",
       "      <td>1.392446e+09</td>\n",
       "    </tr>\n",
       "  </tbody>\n",
       "</table>\n",
       "</div>"
      ],
      "text/plain": [
       "      budget     revenue  original_title  \\\n",
       "0  150000000  1513528810  Jurassic World   \n",
       "\n",
       "                                                cast         director  \\\n",
       "0  Chris Pratt|Bryce Dallas Howard|Irrfan Khan|Vi...  Colin Trevorrow   \n",
       "\n",
       "   runtime                                     genres  \\\n",
       "0      124  Action|Adventure|Science Fiction|Thriller   \n",
       "\n",
       "                                production_companies release_date  \\\n",
       "0  Universal Studios|Amblin Entertainment|Legenda...       6/9/15   \n",
       "\n",
       "   release_year    budget_adj   revenue_adj  \n",
       "0          2015  1.379999e+08  1.392446e+09  "
      ]
     },
     "execution_count": 4,
     "metadata": {},
     "output_type": "execute_result"
    }
   ],
   "source": [
    "#Now we can see the remaining columns\n",
    "tmdb_dataset.head(1)"
   ]
  },
  {
   "cell_type": "code",
   "execution_count": 5,
   "metadata": {},
   "outputs": [
    {
     "name": "stdout",
     "output_type": "stream",
     "text": [
      "<class 'pandas.core.frame.DataFrame'>\n",
      "RangeIndex: 10866 entries, 0 to 10865\n",
      "Data columns (total 12 columns):\n",
      " #   Column                Non-Null Count  Dtype  \n",
      "---  ------                --------------  -----  \n",
      " 0   budget                10866 non-null  int64  \n",
      " 1   revenue               10866 non-null  int64  \n",
      " 2   original_title        10866 non-null  object \n",
      " 3   cast                  10790 non-null  object \n",
      " 4   director              10822 non-null  object \n",
      " 5   runtime               10866 non-null  int64  \n",
      " 6   genres                10843 non-null  object \n",
      " 7   production_companies  9836 non-null   object \n",
      " 8   release_date          10866 non-null  object \n",
      " 9   release_year          10866 non-null  int64  \n",
      " 10  budget_adj            10866 non-null  float64\n",
      " 11  revenue_adj           10866 non-null  float64\n",
      "dtypes: float64(2), int64(4), object(6)\n",
      "memory usage: 1018.8+ KB\n"
     ]
    }
   ],
   "source": [
    "#Then we will need to find and remove any duplicate rows.\n",
    "tmdb_dataset.info()"
   ]
  },
  {
   "cell_type": "code",
   "execution_count": 6,
   "metadata": {},
   "outputs": [],
   "source": [
    "#We have 10866 rows of data (1 row is the header row). Now to drop the duplicates.\n",
    "tmdb_dataset.drop_duplicates(keep ='first', inplace=True)"
   ]
  },
  {
   "cell_type": "code",
   "execution_count": 7,
   "metadata": {
    "scrolled": true
   },
   "outputs": [
    {
     "name": "stdout",
     "output_type": "stream",
     "text": [
      "<class 'pandas.core.frame.DataFrame'>\n",
      "Int64Index: 10865 entries, 0 to 10865\n",
      "Data columns (total 12 columns):\n",
      " #   Column                Non-Null Count  Dtype  \n",
      "---  ------                --------------  -----  \n",
      " 0   budget                10865 non-null  int64  \n",
      " 1   revenue               10865 non-null  int64  \n",
      " 2   original_title        10865 non-null  object \n",
      " 3   cast                  10789 non-null  object \n",
      " 4   director              10821 non-null  object \n",
      " 5   runtime               10865 non-null  int64  \n",
      " 6   genres                10842 non-null  object \n",
      " 7   production_companies  9835 non-null   object \n",
      " 8   release_date          10865 non-null  object \n",
      " 9   release_year          10865 non-null  int64  \n",
      " 10  budget_adj            10865 non-null  float64\n",
      " 11  revenue_adj           10865 non-null  float64\n",
      "dtypes: float64(2), int64(4), object(6)\n",
      "memory usage: 1.1+ MB\n"
     ]
    }
   ],
   "source": [
    "#Now let's see how many rows were deleted for being duplicates.\n",
    "tmdb_dataset.info()"
   ]
  },
  {
   "cell_type": "markdown",
   "metadata": {},
   "source": [
    "It looks like we only had 1 duplicate value so that has been removed. We have 10865 rows including the header row now."
   ]
  },
  {
   "cell_type": "code",
   "execution_count": 8,
   "metadata": {},
   "outputs": [
    {
     "data": {
      "text/plain": [
       "budget                     0\n",
       "revenue                    0\n",
       "original_title             0\n",
       "cast                      76\n",
       "director                  44\n",
       "runtime                    0\n",
       "genres                    23\n",
       "production_companies    1030\n",
       "release_date               0\n",
       "release_year               0\n",
       "budget_adj                 0\n",
       "revenue_adj                0\n",
       "dtype: int64"
      ]
     },
     "execution_count": 8,
     "metadata": {},
     "output_type": "execute_result"
    }
   ],
   "source": [
    "#We will also need to find null values and decide how we want to fill that data (0, NaN, mean, etc.)\n",
    "tmdb_dataset.isnull().sum()"
   ]
  },
  {
   "cell_type": "markdown",
   "metadata": {},
   "source": [
    "So cast, director, genres, and production companies contain null values. Let's drop those values and then move onto filling in some other important data."
   ]
  },
  {
   "cell_type": "code",
   "execution_count": 9,
   "metadata": {},
   "outputs": [],
   "source": [
    "drop_na_values = ['cast', 'director', 'genres', 'production_companies']\n",
    "tmdb_dataset.dropna(subset = drop_na_values, how = 'any', inplace = True)"
   ]
  },
  {
   "cell_type": "code",
   "execution_count": 10,
   "metadata": {},
   "outputs": [
    {
     "data": {
      "text/plain": [
       "budget                  0\n",
       "revenue                 0\n",
       "original_title          0\n",
       "cast                    0\n",
       "director                0\n",
       "runtime                 0\n",
       "genres                  0\n",
       "production_companies    0\n",
       "release_date            0\n",
       "release_year            0\n",
       "budget_adj              0\n",
       "revenue_adj             0\n",
       "dtype: int64"
      ]
     },
     "execution_count": 10,
     "metadata": {},
     "output_type": "execute_result"
    }
   ],
   "source": [
    "#Here we can see there are no more null values\n",
    "tmdb_dataset.isnull().sum()"
   ]
  },
  {
   "cell_type": "code",
   "execution_count": 11,
   "metadata": {},
   "outputs": [
    {
     "name": "stdout",
     "output_type": "stream",
     "text": [
      "<class 'pandas.core.frame.DataFrame'>\n",
      "Int64Index: 9772 entries, 0 to 10865\n",
      "Data columns (total 12 columns):\n",
      " #   Column                Non-Null Count  Dtype  \n",
      "---  ------                --------------  -----  \n",
      " 0   budget                9772 non-null   int64  \n",
      " 1   revenue               9772 non-null   int64  \n",
      " 2   original_title        9772 non-null   object \n",
      " 3   cast                  9772 non-null   object \n",
      " 4   director              9772 non-null   object \n",
      " 5   runtime               9772 non-null   int64  \n",
      " 6   genres                9772 non-null   object \n",
      " 7   production_companies  9772 non-null   object \n",
      " 8   release_date          9772 non-null   object \n",
      " 9   release_year          9772 non-null   int64  \n",
      " 10  budget_adj            9772 non-null   float64\n",
      " 11  revenue_adj           9772 non-null   float64\n",
      "dtypes: float64(2), int64(4), object(6)\n",
      "memory usage: 992.5+ KB\n"
     ]
    }
   ],
   "source": [
    "#And we now have 9772 records, down from 10865.\n",
    "tmdb_dataset.info()"
   ]
  },
  {
   "cell_type": "code",
   "execution_count": 12,
   "metadata": {},
   "outputs": [
    {
     "name": "stdout",
     "output_type": "stream",
     "text": [
      "The budget column contains 4751 zeroes.\n"
     ]
    }
   ],
   "source": [
    "#Let's take a peek at the budget and revenue columns to decide what to do with all of those zeroes.\n",
    "#How many zeroes are in the budget column?\n",
    "zero_count_budget = tmdb_dataset['budget'].isin([0]).sum()\n",
    "print('The budget column contains ' + str(zero_count_budget) + ' zeroes.')"
   ]
  },
  {
   "cell_type": "code",
   "execution_count": 13,
   "metadata": {},
   "outputs": [
    {
     "name": "stdout",
     "output_type": "stream",
     "text": [
      "The revenue column contains 5022 zeroes.\n"
     ]
    }
   ],
   "source": [
    "#How many zeroes are in the revenue column?\n",
    "zero_count_revenue = tmdb_dataset['revenue'].isin([0]).sum()\n",
    "print('The revenue column contains ' + str(zero_count_revenue) + ' zeroes.')"
   ]
  },
  {
   "cell_type": "markdown",
   "metadata": {},
   "source": [
    "We have options to handle all those zeroes and both come with their own problems to solve:\n",
    "1. Convert all of the zeroes to NaN. <b>This will remove a substantial number of movies from the dataset</b></li>\n",
    "2. Fill all of the zeroes with the mean of the overall budget or revenue column. <b>This option will affect the entire dataset analysis overall as over half of the movies will contain the exact same budget and revenue.</b></li>\n",
    "\n",
    "My vote is for option 1. Although we will lose some of the movies, at least the data of those remaining will be more accurate."
   ]
  },
  {
   "cell_type": "code",
   "execution_count": 14,
   "metadata": {},
   "outputs": [],
   "source": [
    "#This will take all of the zeroes in the budget and revenue columns and convert them to NaN (Not a Number)\n",
    "zeroes_to_NaN = ['budget', 'revenue']\n",
    "tmdb_dataset[zeroes_to_NaN] = tmdb_dataset[zeroes_to_NaN].replace(0, np.NAN)"
   ]
  },
  {
   "cell_type": "code",
   "execution_count": 15,
   "metadata": {},
   "outputs": [
    {
     "name": "stdout",
     "output_type": "stream",
     "text": [
      "<class 'pandas.core.frame.DataFrame'>\n",
      "Int64Index: 9772 entries, 0 to 10865\n",
      "Data columns (total 12 columns):\n",
      " #   Column                Non-Null Count  Dtype  \n",
      "---  ------                --------------  -----  \n",
      " 0   budget                5021 non-null   float64\n",
      " 1   revenue               4750 non-null   float64\n",
      " 2   original_title        9772 non-null   object \n",
      " 3   cast                  9772 non-null   object \n",
      " 4   director              9772 non-null   object \n",
      " 5   runtime               9772 non-null   int64  \n",
      " 6   genres                9772 non-null   object \n",
      " 7   production_companies  9772 non-null   object \n",
      " 8   release_date          9772 non-null   object \n",
      " 9   release_year          9772 non-null   int64  \n",
      " 10  budget_adj            9772 non-null   float64\n",
      " 11  revenue_adj           9772 non-null   float64\n",
      "dtypes: float64(4), int64(2), object(6)\n",
      "memory usage: 992.5+ KB\n"
     ]
    }
   ],
   "source": [
    "#Now about half of budget and revenues are null values.\n",
    "tmdb_dataset.info()"
   ]
  },
  {
   "cell_type": "code",
   "execution_count": 16,
   "metadata": {},
   "outputs": [],
   "source": [
    "#Now that budget and revenue contains nulls, we can drop those null values and work with the remaining data.\n",
    "tmdb_dataset.dropna(subset = zeroes_to_NaN, inplace = True)"
   ]
  },
  {
   "cell_type": "code",
   "execution_count": 17,
   "metadata": {},
   "outputs": [
    {
     "name": "stdout",
     "output_type": "stream",
     "text": [
      "<class 'pandas.core.frame.DataFrame'>\n",
      "Int64Index: 3805 entries, 0 to 10848\n",
      "Data columns (total 12 columns):\n",
      " #   Column                Non-Null Count  Dtype  \n",
      "---  ------                --------------  -----  \n",
      " 0   budget                3805 non-null   float64\n",
      " 1   revenue               3805 non-null   float64\n",
      " 2   original_title        3805 non-null   object \n",
      " 3   cast                  3805 non-null   object \n",
      " 4   director              3805 non-null   object \n",
      " 5   runtime               3805 non-null   int64  \n",
      " 6   genres                3805 non-null   object \n",
      " 7   production_companies  3805 non-null   object \n",
      " 8   release_date          3805 non-null   object \n",
      " 9   release_year          3805 non-null   int64  \n",
      " 10  budget_adj            3805 non-null   float64\n",
      " 11  revenue_adj           3805 non-null   float64\n",
      "dtypes: float64(4), int64(2), object(6)\n",
      "memory usage: 386.4+ KB\n"
     ]
    }
   ],
   "source": [
    "tmdb_dataset.info()"
   ]
  },
  {
   "cell_type": "markdown",
   "metadata": {},
   "source": [
    "After wrangling our data, we are left with 3805 movies (including the header). We will use this 'clean' data to answer our initial questions."
   ]
  },
  {
   "cell_type": "markdown",
   "metadata": {},
   "source": [
    "***\n",
    "<a id='eda'></a>\n",
    "## Exploratory Data Analysis - Answering our questions about the TMDb dataset\n",
    "\n",
    "\n",
    "#### 1. Which movies had the highest and the lowest profits?"
   ]
  },
  {
   "cell_type": "code",
   "execution_count": 18,
   "metadata": {
    "scrolled": true
   },
   "outputs": [],
   "source": [
    "#I am going to insert a new column into the dataframe for total_profits. This will allow us to sort by min and max to answer\n",
    "#our first question\n",
    "#How to calculate profit (budget - revenue)\n",
    "tmdb_dataset.insert(2,'total_profit',tmdb_dataset['revenue']-tmdb_dataset['budget'])"
   ]
  },
  {
   "cell_type": "code",
   "execution_count": 19,
   "metadata": {},
   "outputs": [
    {
     "data": {
      "text/html": [
       "<div>\n",
       "<style scoped>\n",
       "    .dataframe tbody tr th:only-of-type {\n",
       "        vertical-align: middle;\n",
       "    }\n",
       "\n",
       "    .dataframe tbody tr th {\n",
       "        vertical-align: top;\n",
       "    }\n",
       "\n",
       "    .dataframe thead th {\n",
       "        text-align: right;\n",
       "    }\n",
       "</style>\n",
       "<table border=\"1\" class=\"dataframe\">\n",
       "  <thead>\n",
       "    <tr style=\"text-align: right;\">\n",
       "      <th></th>\n",
       "      <th>budget</th>\n",
       "      <th>revenue</th>\n",
       "      <th>total_profit</th>\n",
       "      <th>original_title</th>\n",
       "      <th>cast</th>\n",
       "      <th>director</th>\n",
       "      <th>runtime</th>\n",
       "      <th>genres</th>\n",
       "      <th>production_companies</th>\n",
       "      <th>release_date</th>\n",
       "      <th>release_year</th>\n",
       "      <th>budget_adj</th>\n",
       "      <th>revenue_adj</th>\n",
       "    </tr>\n",
       "  </thead>\n",
       "  <tbody>\n",
       "    <tr>\n",
       "      <th>0</th>\n",
       "      <td>150000000.0</td>\n",
       "      <td>1.513529e+09</td>\n",
       "      <td>1.363529e+09</td>\n",
       "      <td>Jurassic World</td>\n",
       "      <td>Chris Pratt|Bryce Dallas Howard|Irrfan Khan|Vi...</td>\n",
       "      <td>Colin Trevorrow</td>\n",
       "      <td>124</td>\n",
       "      <td>Action|Adventure|Science Fiction|Thriller</td>\n",
       "      <td>Universal Studios|Amblin Entertainment|Legenda...</td>\n",
       "      <td>6/9/15</td>\n",
       "      <td>2015</td>\n",
       "      <td>1.379999e+08</td>\n",
       "      <td>1.392446e+09</td>\n",
       "    </tr>\n",
       "    <tr>\n",
       "      <th>1</th>\n",
       "      <td>150000000.0</td>\n",
       "      <td>3.784364e+08</td>\n",
       "      <td>2.284364e+08</td>\n",
       "      <td>Mad Max: Fury Road</td>\n",
       "      <td>Tom Hardy|Charlize Theron|Hugh Keays-Byrne|Nic...</td>\n",
       "      <td>George Miller</td>\n",
       "      <td>120</td>\n",
       "      <td>Action|Adventure|Science Fiction|Thriller</td>\n",
       "      <td>Village Roadshow Pictures|Kennedy Miller Produ...</td>\n",
       "      <td>5/13/15</td>\n",
       "      <td>2015</td>\n",
       "      <td>1.379999e+08</td>\n",
       "      <td>3.481613e+08</td>\n",
       "    </tr>\n",
       "  </tbody>\n",
       "</table>\n",
       "</div>"
      ],
      "text/plain": [
       "        budget       revenue  total_profit      original_title  \\\n",
       "0  150000000.0  1.513529e+09  1.363529e+09      Jurassic World   \n",
       "1  150000000.0  3.784364e+08  2.284364e+08  Mad Max: Fury Road   \n",
       "\n",
       "                                                cast         director  \\\n",
       "0  Chris Pratt|Bryce Dallas Howard|Irrfan Khan|Vi...  Colin Trevorrow   \n",
       "1  Tom Hardy|Charlize Theron|Hugh Keays-Byrne|Nic...    George Miller   \n",
       "\n",
       "   runtime                                     genres  \\\n",
       "0      124  Action|Adventure|Science Fiction|Thriller   \n",
       "1      120  Action|Adventure|Science Fiction|Thriller   \n",
       "\n",
       "                                production_companies release_date  \\\n",
       "0  Universal Studios|Amblin Entertainment|Legenda...       6/9/15   \n",
       "1  Village Roadshow Pictures|Kennedy Miller Produ...      5/13/15   \n",
       "\n",
       "   release_year    budget_adj   revenue_adj  \n",
       "0          2015  1.379999e+08  1.392446e+09  \n",
       "1          2015  1.379999e+08  3.481613e+08  "
      ]
     },
     "execution_count": 19,
     "metadata": {},
     "output_type": "execute_result"
    }
   ],
   "source": [
    "#Here is a look at the new column 'total_profit' inserted into the 3rd column\n",
    "tmdb_dataset.head(2)"
   ]
  },
  {
   "cell_type": "code",
   "execution_count": 20,
   "metadata": {},
   "outputs": [
    {
     "data": {
      "text/plain": [
       "budget                                                           2.37e+08\n",
       "revenue                                                       2.78151e+09\n",
       "total_profit                                                  2.54451e+09\n",
       "original_title                                                     Avatar\n",
       "cast                    Sam Worthington|Zoe Saldana|Sigourney Weaver|S...\n",
       "director                                                    James Cameron\n",
       "runtime                                                               162\n",
       "genres                           Action|Adventure|Fantasy|Science Fiction\n",
       "production_companies    Ingenious Film Partners|Twentieth Century Fox ...\n",
       "release_date                                                     12/10/09\n",
       "release_year                                                         2009\n",
       "budget_adj                                                    2.40887e+08\n",
       "revenue_adj                                                   2.82712e+09\n",
       "Name: 1386, dtype: object"
      ]
     },
     "execution_count": 20,
     "metadata": {},
     "output_type": "execute_result"
    }
   ],
   "source": [
    "highest_profit = tmdb_dataset.loc[tmdb_dataset['total_profit'].idxmax()]\n",
    "highest_profit"
   ]
  },
  {
   "cell_type": "code",
   "execution_count": 21,
   "metadata": {},
   "outputs": [
    {
     "data": {
      "text/plain": [
       "budget                                                           4.25e+08\n",
       "revenue                                                       1.10876e+07\n",
       "total_profit                                                 -4.13912e+08\n",
       "original_title                                          The Warrior's Way\n",
       "cast                    Kate Bosworth|Jang Dong-gun|Geoffrey Rush|Dann...\n",
       "director                                                       Sngmoo Lee\n",
       "runtime                                                               100\n",
       "genres                          Adventure|Fantasy|Action|Western|Thriller\n",
       "production_companies                             Boram Entertainment Inc.\n",
       "release_date                                                      12/2/10\n",
       "release_year                                                         2010\n",
       "budget_adj                                                       4.25e+08\n",
       "revenue_adj                                                   1.10876e+07\n",
       "Name: 2244, dtype: object"
      ]
     },
     "execution_count": 21,
     "metadata": {},
     "output_type": "execute_result"
    }
   ],
   "source": [
    "#And the lowest profit\n",
    "lowest_profit = tmdb_dataset.loc[tmdb_dataset['total_profit'].idxmin()]\n",
    "lowest_profit"
   ]
  },
  {
   "cell_type": "markdown",
   "metadata": {},
   "source": [
    "After seeing the **budget, budget_adj, revenue** and **revenue_adj** not being correctly formatted, I decided to convert the entire **budget, budget_adj, revenue** and **revenue_adj** column from float to integer"
   ]
  },
  {
   "cell_type": "code",
   "execution_count": 22,
   "metadata": {},
   "outputs": [],
   "source": [
    "tmdb_dataset = tmdb_dataset.astype({\"budget\": np.int64, \"revenue\": np.int64, \"budget_adj\": np.int64, \"revenue_adj\":np.int64, \"total_profit\":np.int64})"
   ]
  },
  {
   "cell_type": "code",
   "execution_count": 23,
   "metadata": {},
   "outputs": [
    {
     "data": {
      "text/plain": [
       "budget                                                          237000000\n",
       "revenue                                                        2781505847\n",
       "total_profit                                                   2544505847\n",
       "original_title                                                     Avatar\n",
       "cast                    Sam Worthington|Zoe Saldana|Sigourney Weaver|S...\n",
       "director                                                    James Cameron\n",
       "runtime                                                               162\n",
       "genres                           Action|Adventure|Fantasy|Science Fiction\n",
       "production_companies    Ingenious Film Partners|Twentieth Century Fox ...\n",
       "release_date                                                     12/10/09\n",
       "release_year                                                         2009\n",
       "budget_adj                                                      240886902\n",
       "revenue_adj                                                    2827123750\n",
       "Name: 1386, dtype: object"
      ]
     },
     "execution_count": 23,
     "metadata": {},
     "output_type": "execute_result"
    }
   ],
   "source": [
    "#budget and revenue have been converted to integers so let's see our highest budgets now\n",
    "highest_profit = tmdb_dataset.loc[tmdb_dataset['total_profit'].idxmax()]\n",
    "highest_profit\n",
    "#That looks better!"
   ]
  },
  {
   "cell_type": "code",
   "execution_count": 24,
   "metadata": {},
   "outputs": [
    {
     "data": {
      "text/plain": [
       "budget                                                          425000000\n",
       "revenue                                                          11087569\n",
       "total_profit                                                   -413912431\n",
       "original_title                                          The Warrior's Way\n",
       "cast                    Kate Bosworth|Jang Dong-gun|Geoffrey Rush|Dann...\n",
       "director                                                       Sngmoo Lee\n",
       "runtime                                                               100\n",
       "genres                          Adventure|Fantasy|Action|Western|Thriller\n",
       "production_companies                             Boram Entertainment Inc.\n",
       "release_date                                                      12/2/10\n",
       "release_year                                                         2010\n",
       "budget_adj                                                      425000000\n",
       "revenue_adj                                                      11087569\n",
       "Name: 2244, dtype: object"
      ]
     },
     "execution_count": 24,
     "metadata": {},
     "output_type": "execute_result"
    }
   ],
   "source": [
    "#And the updated lowest profit\n",
    "lowest_profit = tmdb_dataset.loc[tmdb_dataset['total_profit'].idxmin()]\n",
    "lowest_profit"
   ]
  },
  {
   "cell_type": "code",
   "execution_count": 25,
   "metadata": {
    "scrolled": false
   },
   "outputs": [
    {
     "data": {
      "text/html": [
       "<div>\n",
       "<style scoped>\n",
       "    .dataframe tbody tr th:only-of-type {\n",
       "        vertical-align: middle;\n",
       "    }\n",
       "\n",
       "    .dataframe tbody tr th {\n",
       "        vertical-align: top;\n",
       "    }\n",
       "\n",
       "    .dataframe thead th {\n",
       "        text-align: right;\n",
       "    }\n",
       "</style>\n",
       "<table border=\"1\" class=\"dataframe\">\n",
       "  <thead>\n",
       "    <tr style=\"text-align: right;\">\n",
       "      <th></th>\n",
       "      <th>Highest Profit</th>\n",
       "      <th>Lowest Profit</th>\n",
       "    </tr>\n",
       "  </thead>\n",
       "  <tbody>\n",
       "    <tr>\n",
       "      <th>budget</th>\n",
       "      <td>237000000</td>\n",
       "      <td>425000000</td>\n",
       "    </tr>\n",
       "    <tr>\n",
       "      <th>revenue</th>\n",
       "      <td>2781505847</td>\n",
       "      <td>11087569</td>\n",
       "    </tr>\n",
       "    <tr>\n",
       "      <th>total_profit</th>\n",
       "      <td>2544505847</td>\n",
       "      <td>-413912431</td>\n",
       "    </tr>\n",
       "    <tr>\n",
       "      <th>original_title</th>\n",
       "      <td>Avatar</td>\n",
       "      <td>The Warrior's Way</td>\n",
       "    </tr>\n",
       "    <tr>\n",
       "      <th>cast</th>\n",
       "      <td>Sam Worthington|Zoe Saldana|Sigourney Weaver|S...</td>\n",
       "      <td>Kate Bosworth|Jang Dong-gun|Geoffrey Rush|Dann...</td>\n",
       "    </tr>\n",
       "    <tr>\n",
       "      <th>director</th>\n",
       "      <td>James Cameron</td>\n",
       "      <td>Sngmoo Lee</td>\n",
       "    </tr>\n",
       "    <tr>\n",
       "      <th>runtime</th>\n",
       "      <td>162</td>\n",
       "      <td>100</td>\n",
       "    </tr>\n",
       "    <tr>\n",
       "      <th>genres</th>\n",
       "      <td>Action|Adventure|Fantasy|Science Fiction</td>\n",
       "      <td>Adventure|Fantasy|Action|Western|Thriller</td>\n",
       "    </tr>\n",
       "    <tr>\n",
       "      <th>production_companies</th>\n",
       "      <td>Ingenious Film Partners|Twentieth Century Fox ...</td>\n",
       "      <td>Boram Entertainment Inc.</td>\n",
       "    </tr>\n",
       "    <tr>\n",
       "      <th>release_date</th>\n",
       "      <td>12/10/09</td>\n",
       "      <td>12/2/10</td>\n",
       "    </tr>\n",
       "    <tr>\n",
       "      <th>release_year</th>\n",
       "      <td>2009</td>\n",
       "      <td>2010</td>\n",
       "    </tr>\n",
       "    <tr>\n",
       "      <th>budget_adj</th>\n",
       "      <td>240886902</td>\n",
       "      <td>425000000</td>\n",
       "    </tr>\n",
       "    <tr>\n",
       "      <th>revenue_adj</th>\n",
       "      <td>2827123750</td>\n",
       "      <td>11087569</td>\n",
       "    </tr>\n",
       "  </tbody>\n",
       "</table>\n",
       "</div>"
      ],
      "text/plain": [
       "                                                         Highest Profit  \\\n",
       "budget                                                        237000000   \n",
       "revenue                                                      2781505847   \n",
       "total_profit                                                 2544505847   \n",
       "original_title                                                   Avatar   \n",
       "cast                  Sam Worthington|Zoe Saldana|Sigourney Weaver|S...   \n",
       "director                                                  James Cameron   \n",
       "runtime                                                             162   \n",
       "genres                         Action|Adventure|Fantasy|Science Fiction   \n",
       "production_companies  Ingenious Film Partners|Twentieth Century Fox ...   \n",
       "release_date                                                   12/10/09   \n",
       "release_year                                                       2009   \n",
       "budget_adj                                                    240886902   \n",
       "revenue_adj                                                  2827123750   \n",
       "\n",
       "                                                          Lowest Profit  \n",
       "budget                                                        425000000  \n",
       "revenue                                                        11087569  \n",
       "total_profit                                                 -413912431  \n",
       "original_title                                        The Warrior's Way  \n",
       "cast                  Kate Bosworth|Jang Dong-gun|Geoffrey Rush|Dann...  \n",
       "director                                                     Sngmoo Lee  \n",
       "runtime                                                             100  \n",
       "genres                        Adventure|Fantasy|Action|Western|Thriller  \n",
       "production_companies                           Boram Entertainment Inc.  \n",
       "release_date                                                    12/2/10  \n",
       "release_year                                                       2010  \n",
       "budget_adj                                                    425000000  \n",
       "revenue_adj                                                    11087569  "
      ]
     },
     "execution_count": 25,
     "metadata": {},
     "output_type": "execute_result"
    }
   ],
   "source": [
    "#With the pandas concat method we can show our results in a much more presentable fashion\n",
    "profit_compare = pd.concat([highest_profit, lowest_profit], axis=1,  keys=['Highest Profit', 'Lowest Profit'])\n",
    "profit_compare"
   ]
  },
  {
   "cell_type": "markdown",
   "metadata": {},
   "source": [
    "We can see that **Avatar takes the top spot** but it does cause me to wonder where The Warrior's Way fell in comparison to other large budgeted movies."
   ]
  },
  {
   "cell_type": "code",
   "execution_count": 26,
   "metadata": {
    "scrolled": false
   },
   "outputs": [
    {
     "data": {
      "text/html": [
       "<div>\n",
       "<style scoped>\n",
       "    .dataframe tbody tr th:only-of-type {\n",
       "        vertical-align: middle;\n",
       "    }\n",
       "\n",
       "    .dataframe tbody tr th {\n",
       "        vertical-align: top;\n",
       "    }\n",
       "\n",
       "    .dataframe thead th {\n",
       "        text-align: right;\n",
       "    }\n",
       "</style>\n",
       "<table border=\"1\" class=\"dataframe\">\n",
       "  <thead>\n",
       "    <tr style=\"text-align: right;\">\n",
       "      <th></th>\n",
       "      <th>budget</th>\n",
       "      <th>revenue</th>\n",
       "      <th>total_profit</th>\n",
       "      <th>original_title</th>\n",
       "      <th>cast</th>\n",
       "      <th>director</th>\n",
       "      <th>runtime</th>\n",
       "      <th>genres</th>\n",
       "      <th>production_companies</th>\n",
       "      <th>release_date</th>\n",
       "      <th>release_year</th>\n",
       "      <th>budget_adj</th>\n",
       "      <th>revenue_adj</th>\n",
       "    </tr>\n",
       "  </thead>\n",
       "  <tbody>\n",
       "    <tr>\n",
       "      <th>2244</th>\n",
       "      <td>425000000</td>\n",
       "      <td>11087569</td>\n",
       "      <td>-413912431</td>\n",
       "      <td>The Warrior's Way</td>\n",
       "      <td>Kate Bosworth|Jang Dong-gun|Geoffrey Rush|Dann...</td>\n",
       "      <td>Sngmoo Lee</td>\n",
       "      <td>100</td>\n",
       "      <td>Adventure|Fantasy|Action|Western|Thriller</td>\n",
       "      <td>Boram Entertainment Inc.</td>\n",
       "      <td>12/2/10</td>\n",
       "      <td>2010</td>\n",
       "      <td>425000000</td>\n",
       "      <td>11087569</td>\n",
       "    </tr>\n",
       "    <tr>\n",
       "      <th>3375</th>\n",
       "      <td>380000000</td>\n",
       "      <td>1021683000</td>\n",
       "      <td>641683000</td>\n",
       "      <td>Pirates of the Caribbean: On Stranger Tides</td>\n",
       "      <td>Johnny Depp|PenÃ©lope Cruz|Geoffrey Rush|Ian M...</td>\n",
       "      <td>Rob Marshall</td>\n",
       "      <td>136</td>\n",
       "      <td>Adventure|Action|Fantasy</td>\n",
       "      <td>Walt Disney Pictures|Jerry Bruckheimer Films|M...</td>\n",
       "      <td>5/11/11</td>\n",
       "      <td>2011</td>\n",
       "      <td>368371256</td>\n",
       "      <td>990417500</td>\n",
       "    </tr>\n",
       "    <tr>\n",
       "      <th>7387</th>\n",
       "      <td>300000000</td>\n",
       "      <td>961000000</td>\n",
       "      <td>661000000</td>\n",
       "      <td>Pirates of the Caribbean: At World's End</td>\n",
       "      <td>Johnny Depp|Orlando Bloom|Keira Knightley|Geof...</td>\n",
       "      <td>Gore Verbinski</td>\n",
       "      <td>169</td>\n",
       "      <td>Adventure|Fantasy|Action</td>\n",
       "      <td>Walt Disney Pictures|Jerry Bruckheimer Films|S...</td>\n",
       "      <td>5/19/07</td>\n",
       "      <td>2007</td>\n",
       "      <td>315500574</td>\n",
       "      <td>1010653507</td>\n",
       "    </tr>\n",
       "  </tbody>\n",
       "</table>\n",
       "</div>"
      ],
      "text/plain": [
       "         budget     revenue  total_profit  \\\n",
       "2244  425000000    11087569    -413912431   \n",
       "3375  380000000  1021683000     641683000   \n",
       "7387  300000000   961000000     661000000   \n",
       "\n",
       "                                   original_title  \\\n",
       "2244                            The Warrior's Way   \n",
       "3375  Pirates of the Caribbean: On Stranger Tides   \n",
       "7387     Pirates of the Caribbean: At World's End   \n",
       "\n",
       "                                                   cast        director  \\\n",
       "2244  Kate Bosworth|Jang Dong-gun|Geoffrey Rush|Dann...      Sngmoo Lee   \n",
       "3375  Johnny Depp|PenÃ©lope Cruz|Geoffrey Rush|Ian M...    Rob Marshall   \n",
       "7387  Johnny Depp|Orlando Bloom|Keira Knightley|Geof...  Gore Verbinski   \n",
       "\n",
       "      runtime                                     genres  \\\n",
       "2244      100  Adventure|Fantasy|Action|Western|Thriller   \n",
       "3375      136                   Adventure|Action|Fantasy   \n",
       "7387      169                   Adventure|Fantasy|Action   \n",
       "\n",
       "                                   production_companies release_date  \\\n",
       "2244                           Boram Entertainment Inc.      12/2/10   \n",
       "3375  Walt Disney Pictures|Jerry Bruckheimer Films|M...      5/11/11   \n",
       "7387  Walt Disney Pictures|Jerry Bruckheimer Films|S...      5/19/07   \n",
       "\n",
       "      release_year  budget_adj  revenue_adj  \n",
       "2244          2010   425000000     11087569  \n",
       "3375          2011   368371256    990417500  \n",
       "7387          2007   315500574   1010653507  "
      ]
     },
     "execution_count": 26,
     "metadata": {},
     "output_type": "execute_result"
    }
   ],
   "source": [
    "#We will display the top 3 budgets and see where it falls\n",
    "tmdb_dataset.nlargest(3,'budget')"
   ]
  },
  {
   "cell_type": "markdown",
   "metadata": {},
   "source": [
    "The Warrior's Way not only started with the largest budget of all of the movies in our data but also lost the most money. That's a real financial blow to the production company, Boram Entertainment Inc."
   ]
  },
  {
   "cell_type": "markdown",
   "metadata": {},
   "source": [
    "***"
   ]
  },
  {
   "cell_type": "markdown",
   "metadata": {},
   "source": [
    "#### 2. Who are the directors that are producing the most profits in the movie industry?"
   ]
  },
  {
   "cell_type": "code",
   "execution_count": 27,
   "metadata": {},
   "outputs": [
    {
     "data": {
      "text/html": [
       "<div>\n",
       "<style scoped>\n",
       "    .dataframe tbody tr th:only-of-type {\n",
       "        vertical-align: middle;\n",
       "    }\n",
       "\n",
       "    .dataframe tbody tr th {\n",
       "        vertical-align: top;\n",
       "    }\n",
       "\n",
       "    .dataframe thead th {\n",
       "        text-align: right;\n",
       "    }\n",
       "</style>\n",
       "<table border=\"1\" class=\"dataframe\">\n",
       "  <thead>\n",
       "    <tr style=\"text-align: right;\">\n",
       "      <th></th>\n",
       "      <th>total_profit</th>\n",
       "    </tr>\n",
       "    <tr>\n",
       "      <th>director</th>\n",
       "      <th></th>\n",
       "    </tr>\n",
       "  </thead>\n",
       "  <tbody>\n",
       "    <tr>\n",
       "      <th>Steven Spielberg</th>\n",
       "      <td>7467063772</td>\n",
       "    </tr>\n",
       "    <tr>\n",
       "      <th>Peter Jackson</th>\n",
       "      <td>5197244659</td>\n",
       "    </tr>\n",
       "    <tr>\n",
       "      <th>James Cameron</th>\n",
       "      <td>5081994863</td>\n",
       "    </tr>\n",
       "    <tr>\n",
       "      <th>Michael Bay</th>\n",
       "      <td>3557208171</td>\n",
       "    </tr>\n",
       "    <tr>\n",
       "      <th>David Yates</th>\n",
       "      <td>3379295625</td>\n",
       "    </tr>\n",
       "  </tbody>\n",
       "</table>\n",
       "</div>"
      ],
      "text/plain": [
       "                  total_profit\n",
       "director                      \n",
       "Steven Spielberg    7467063772\n",
       "Peter Jackson       5197244659\n",
       "James Cameron       5081994863\n",
       "Michael Bay         3557208171\n",
       "David Yates         3379295625"
      ]
     },
     "execution_count": 27,
     "metadata": {},
     "output_type": "execute_result"
    }
   ],
   "source": [
    "#for this analysis, we'll create a new series that contains the director and total_profit columns\n",
    "data_direct = tmdb_dataset[['director','total_profit']]\n",
    "\n",
    "#Now we'll group all of the data by directors and sum up the total profit at the same time.\n",
    "group_direct = data_direct.groupby(['director']).sum()\n",
    "\n",
    "#And sort it by largest total profit so we can begin to answer our second question.\n",
    "group_direct = group_direct.sort_values(by=['total_profit'], ascending=False)\n",
    "group_direct.head(5)"
   ]
  },
  {
   "cell_type": "code",
   "execution_count": 28,
   "metadata": {},
   "outputs": [
    {
     "data": {
      "text/html": [
       "<div>\n",
       "<style scoped>\n",
       "    .dataframe tbody tr th:only-of-type {\n",
       "        vertical-align: middle;\n",
       "    }\n",
       "\n",
       "    .dataframe tbody tr th {\n",
       "        vertical-align: top;\n",
       "    }\n",
       "\n",
       "    .dataframe thead th {\n",
       "        text-align: right;\n",
       "    }\n",
       "</style>\n",
       "<table border=\"1\" class=\"dataframe\">\n",
       "  <thead>\n",
       "    <tr style=\"text-align: right;\">\n",
       "      <th></th>\n",
       "      <th>total_profit</th>\n",
       "    </tr>\n",
       "    <tr>\n",
       "      <th>director</th>\n",
       "      <th></th>\n",
       "    </tr>\n",
       "  </thead>\n",
       "  <tbody>\n",
       "    <tr>\n",
       "      <th>Steven Spielberg</th>\n",
       "      <td>7467063772</td>\n",
       "    </tr>\n",
       "    <tr>\n",
       "      <th>Peter Jackson</th>\n",
       "      <td>5197244659</td>\n",
       "    </tr>\n",
       "    <tr>\n",
       "      <th>James Cameron</th>\n",
       "      <td>5081994863</td>\n",
       "    </tr>\n",
       "    <tr>\n",
       "      <th>Michael Bay</th>\n",
       "      <td>3557208171</td>\n",
       "    </tr>\n",
       "    <tr>\n",
       "      <th>David Yates</th>\n",
       "      <td>3379295625</td>\n",
       "    </tr>\n",
       "    <tr>\n",
       "      <th>Christopher Nolan</th>\n",
       "      <td>3162548502</td>\n",
       "    </tr>\n",
       "    <tr>\n",
       "      <th>Chris Columbus</th>\n",
       "      <td>3116631503</td>\n",
       "    </tr>\n",
       "    <tr>\n",
       "      <th>George Lucas</th>\n",
       "      <td>2955996893</td>\n",
       "    </tr>\n",
       "    <tr>\n",
       "      <th>Robert Zemeckis</th>\n",
       "      <td>2846690869</td>\n",
       "    </tr>\n",
       "    <tr>\n",
       "      <th>J.J. Abrams</th>\n",
       "      <td>2839169916</td>\n",
       "    </tr>\n",
       "    <tr>\n",
       "      <th>Tim Burton</th>\n",
       "      <td>2552414624</td>\n",
       "    </tr>\n",
       "    <tr>\n",
       "      <th>Francis Lawrence</th>\n",
       "      <td>2476979588</td>\n",
       "    </tr>\n",
       "    <tr>\n",
       "      <th>Roland Emmerich</th>\n",
       "      <td>2429825574</td>\n",
       "    </tr>\n",
       "    <tr>\n",
       "      <th>Joss Whedon</th>\n",
       "      <td>2424463141</td>\n",
       "    </tr>\n",
       "    <tr>\n",
       "      <th>Gore Verbinski</th>\n",
       "      <td>2355779679</td>\n",
       "    </tr>\n",
       "    <tr>\n",
       "      <th>Sam Raimi</th>\n",
       "      <td>2304870360</td>\n",
       "    </tr>\n",
       "    <tr>\n",
       "      <th>Carlos Saldanha</th>\n",
       "      <td>2169451792</td>\n",
       "    </tr>\n",
       "    <tr>\n",
       "      <th>Ron Howard</th>\n",
       "      <td>2151232227</td>\n",
       "    </tr>\n",
       "    <tr>\n",
       "      <th>Ridley Scott</th>\n",
       "      <td>2102430808</td>\n",
       "    </tr>\n",
       "    <tr>\n",
       "      <th>Sam Mendes</th>\n",
       "      <td>2049548809</td>\n",
       "    </tr>\n",
       "    <tr>\n",
       "      <th>Clint Eastwood</th>\n",
       "      <td>1940535687</td>\n",
       "    </tr>\n",
       "    <tr>\n",
       "      <th>James Wan</th>\n",
       "      <td>1818662186</td>\n",
       "    </tr>\n",
       "    <tr>\n",
       "      <th>M. Night Shyamalan</th>\n",
       "      <td>1785354930</td>\n",
       "    </tr>\n",
       "    <tr>\n",
       "      <th>Shawn Levy</th>\n",
       "      <td>1515787063</td>\n",
       "    </tr>\n",
       "    <tr>\n",
       "      <th>David Fincher</th>\n",
       "      <td>1489346325</td>\n",
       "    </tr>\n",
       "  </tbody>\n",
       "</table>\n",
       "</div>"
      ],
      "text/plain": [
       "                    total_profit\n",
       "director                        \n",
       "Steven Spielberg      7467063772\n",
       "Peter Jackson         5197244659\n",
       "James Cameron         5081994863\n",
       "Michael Bay           3557208171\n",
       "David Yates           3379295625\n",
       "Christopher Nolan     3162548502\n",
       "Chris Columbus        3116631503\n",
       "George Lucas          2955996893\n",
       "Robert Zemeckis       2846690869\n",
       "J.J. Abrams           2839169916\n",
       "Tim Burton            2552414624\n",
       "Francis Lawrence      2476979588\n",
       "Roland Emmerich       2429825574\n",
       "Joss Whedon           2424463141\n",
       "Gore Verbinski        2355779679\n",
       "Sam Raimi             2304870360\n",
       "Carlos Saldanha       2169451792\n",
       "Ron Howard            2151232227\n",
       "Ridley Scott          2102430808\n",
       "Sam Mendes            2049548809\n",
       "Clint Eastwood        1940535687\n",
       "James Wan             1818662186\n",
       "M. Night Shyamalan    1785354930\n",
       "Shawn Levy            1515787063\n",
       "David Fincher         1489346325"
      ]
     },
     "execution_count": 28,
     "metadata": {},
     "output_type": "execute_result"
    }
   ],
   "source": [
    "#We're really only concerned with the top 25 for this analysis\n",
    "top_25_directors = group_direct.head(25)\n",
    "top_25_directors"
   ]
  },
  {
   "cell_type": "code",
   "execution_count": 29,
   "metadata": {
    "scrolled": false
   },
   "outputs": [
    {
     "data": {
      "image/png": "[encoded data removed]",
      "text/plain": [
       "<Figure size 1080x792 with 1 Axes>"
      ]
     },
     "metadata": {
      "needs_background": "light"
     },
     "output_type": "display_data"
    }
   ],
   "source": [
    "#Setting up the bar plot for our top 25 directors\n",
    "dir_plt = top_25_directors.plot.bar(color = '#44B6C4', fontsize = 10)\n",
    "#title\n",
    "dir_plt.set(title = 'The Top 25 Grossing Directors')\n",
    "#y-axis label\n",
    "dir_plt.set_ylabel('Money Earned (in billions)', color = 'gray', fontsize = '14')\n",
    "#x-axis label\n",
    "dir_plt.set_xlabel('Directors', color = 'gray', fontsize = '14')\n",
    "#plot size\n",
    "dir_plt.figure.set_size_inches(15,11)\n",
    "\n",
    "#Let's see the mean compared to the directors' profits\n",
    "dir_mean = int(top_25_directors.mean())\n",
    "plt.axhline(y=dir_mean, xmin=0, xmax=len(top_25_directors.index), color='#D8534D', linestyle='--', linewidth=3)\n",
    "min_ylim, max_ylim = plt.ylim()\n",
    "plt.text(min_ylim+10, dir_mean*1.05, 'Mean: ${:,}'.format(dir_mean))\n",
    "plt.show()"
   ]
  },
  {
   "cell_type": "markdown",
   "metadata": {},
   "source": [
    "We have the answer to our second question now - **Steven Spielberg, Peter Jackson, James Cameron, Michael Bay and David Yates are the top grossing directors in the film industry today**. Overall Steven Spielberg has a commanding lead over the second place Peter Jackson."
   ]
  },
  {
   "cell_type": "markdown",
   "metadata": {},
   "source": [
    "***"
   ]
  },
  {
   "cell_type": "markdown",
   "metadata": {},
   "source": [
    "#### 3. Which actors appeared in the most movies?"
   ]
  },
  {
   "cell_type": "code",
   "execution_count": 30,
   "metadata": {},
   "outputs": [
    {
     "data": {
      "text/plain": [
       "Robert De Niro           52\n",
       "Bruce Willis             46\n",
       "Samuel L. Jackson        44\n",
       "Nicolas Cage             43\n",
       "Matt Damon               36\n",
       "Johnny Depp              35\n",
       "Tom Hanks                34\n",
       "Sylvester Stallone       34\n",
       "Morgan Freeman           34\n",
       "Brad Pitt                34\n",
       "Harrison Ford            34\n",
       "Tom Cruise               33\n",
       "Denzel Washington        32\n",
       "Eddie Murphy             32\n",
       "Liam Neeson              31\n",
       "Owen Wilson              30\n",
       "Julianne Moore           30\n",
       "Gene Hackman             29\n",
       "Mark Wahlberg            29\n",
       "Robin Williams           29\n",
       "Arnold Schwarzenegger    29\n",
       "Willem Dafoe             29\n",
       "Meryl Streep             29\n",
       "Ewan McGregor            28\n",
       "Keanu Reeves             28\n",
       "dtype: int64"
      ]
     },
     "execution_count": 30,
     "metadata": {},
     "output_type": "execute_result"
    }
   ],
   "source": [
    "#The cast column is delimited by the | (pipe) symbol. We will need to separate them into a temporary dataframe so we can explore the data\n",
    "split_cast = tmdb_dataset['cast'].str.cat(sep = '|')\n",
    "split_cast = pd.Series(split_cast.split('|'))\n",
    "\n",
    "#Count the actors\n",
    "act_count = split_cast.value_counts(ascending = False)\n",
    "\n",
    "#We're really only concerned with the top 25 for this analysis\n",
    "top_25 = act_count.head(25)\n",
    "top_25"
   ]
  },
  {
   "cell_type": "code",
   "execution_count": 31,
   "metadata": {},
   "outputs": [
    {
     "data": {
      "image/png": "[encoded data removed]",
      "text/plain": [
       "<Figure size 1080x792 with 1 Axes>"
      ]
     },
     "metadata": {
      "needs_background": "light"
     },
     "output_type": "display_data"
    }
   ],
   "source": [
    "#Let's plot the top 50 appearances by actors in our data\n",
    "#We'll sort the data from largest to smallest\n",
    "top_25.sort_values(ascending = True, inplace = True)\n",
    "#type of plot - horizontal bar\n",
    "act_plt = top_25.plot.barh(color = '#44B6C4', fontsize = 10)\n",
    "#title\n",
    "act_plt.set(title = 'Top 25 Hardest Working Actors')\n",
    "#x-axis label\n",
    "act_plt.set_ylabel('Number of Appearances', color = 'gray', fontsize = '14')\n",
    "#y-axis label\n",
    "act_plt.set_xlabel('Actors', color = 'gray', fontsize = '14')\n",
    "#plot size\n",
    "act_plt.figure.set_size_inches(15,11)\n",
    "\n",
    "#Let's see the mean compared to our actors\n",
    "mean = top_25.mean()\n",
    "plt.axvline(mean, color='#D8534D', linestyle='--', linewidth=3)\n",
    "min_ylim, max_ylim = plt.ylim()\n",
    "plt.text(mean*1.015, max_ylim*0.6, 'Mean: {:.2f}'.format(mean))\n",
    "plt.show()"
   ]
  },
  {
   "cell_type": "code",
   "execution_count": 32,
   "metadata": {},
   "outputs": [
    {
     "data": {
      "text/plain": [
       "count    25.000000\n",
       "mean     33.760000\n",
       "std       6.206717\n",
       "min      28.000000\n",
       "25%      29.000000\n",
       "50%      32.000000\n",
       "75%      34.000000\n",
       "max      52.000000\n",
       "dtype: float64"
      ]
     },
     "execution_count": 32,
     "metadata": {},
     "output_type": "execute_result"
    }
   ],
   "source": [
    "#Let's see some descriptive statistics about our actors appearances.\n",
    "top_25.describe()"
   ]
  },
  {
   "cell_type": "markdown",
   "metadata": {},
   "source": [
    "#### Out of 6747 total actors, we selected the top 25 actors from our dataset. Each actor averages about 34 movie appearances. We can conclude from this breakdown that Robert De Niro's 52 appearances is quite the achievement over the years."
   ]
  },
  {
   "cell_type": "markdown",
   "metadata": {},
   "source": [
    "***\n",
    "#### 4. Which movies had the longest and shortest runtimes and what affect did that have on a movie's profitability?"
   ]
  },
  {
   "cell_type": "code",
   "execution_count": 33,
   "metadata": {},
   "outputs": [
    {
     "data": {
      "text/html": [
       "<div>\n",
       "<style scoped>\n",
       "    .dataframe tbody tr th:only-of-type {\n",
       "        vertical-align: middle;\n",
       "    }\n",
       "\n",
       "    .dataframe tbody tr th {\n",
       "        vertical-align: top;\n",
       "    }\n",
       "\n",
       "    .dataframe thead th {\n",
       "        text-align: right;\n",
       "    }\n",
       "</style>\n",
       "<table border=\"1\" class=\"dataframe\">\n",
       "  <thead>\n",
       "    <tr style=\"text-align: right;\">\n",
       "      <th></th>\n",
       "      <th>original_title</th>\n",
       "      <th>runtime</th>\n",
       "      <th>total_profit</th>\n",
       "    </tr>\n",
       "  </thead>\n",
       "  <tbody>\n",
       "    <tr>\n",
       "      <th>0</th>\n",
       "      <td>Jurassic World</td>\n",
       "      <td>124</td>\n",
       "      <td>1363528810</td>\n",
       "    </tr>\n",
       "    <tr>\n",
       "      <th>1</th>\n",
       "      <td>Mad Max: Fury Road</td>\n",
       "      <td>120</td>\n",
       "      <td>228436354</td>\n",
       "    </tr>\n",
       "    <tr>\n",
       "      <th>2</th>\n",
       "      <td>Insurgent</td>\n",
       "      <td>119</td>\n",
       "      <td>185238201</td>\n",
       "    </tr>\n",
       "    <tr>\n",
       "      <th>3</th>\n",
       "      <td>Star Wars: The Force Awakens</td>\n",
       "      <td>136</td>\n",
       "      <td>1868178225</td>\n",
       "    </tr>\n",
       "    <tr>\n",
       "      <th>4</th>\n",
       "      <td>Furious 7</td>\n",
       "      <td>137</td>\n",
       "      <td>1316249360</td>\n",
       "    </tr>\n",
       "  </tbody>\n",
       "</table>\n",
       "</div>"
      ],
      "text/plain": [
       "                 original_title  runtime  total_profit\n",
       "0                Jurassic World      124    1363528810\n",
       "1            Mad Max: Fury Road      120     228436354\n",
       "2                     Insurgent      119     185238201\n",
       "3  Star Wars: The Force Awakens      136    1868178225\n",
       "4                     Furious 7      137    1316249360"
      ]
     },
     "execution_count": 33,
     "metadata": {},
     "output_type": "execute_result"
    }
   ],
   "source": [
    "#We'll select three columns for this question - total_profit and runtime and original_title\n",
    "runtimes= tmdb_dataset[['original_title', 'runtime', 'total_profit']]\n",
    "runtimes.head()"
   ]
  },
  {
   "cell_type": "code",
   "execution_count": 34,
   "metadata": {},
   "outputs": [
    {
     "data": {
      "text/html": [
       "<div>\n",
       "<style scoped>\n",
       "    .dataframe tbody tr th:only-of-type {\n",
       "        vertical-align: middle;\n",
       "    }\n",
       "\n",
       "    .dataframe tbody tr th {\n",
       "        vertical-align: top;\n",
       "    }\n",
       "\n",
       "    .dataframe thead th {\n",
       "        text-align: right;\n",
       "    }\n",
       "</style>\n",
       "<table border=\"1\" class=\"dataframe\">\n",
       "  <thead>\n",
       "    <tr style=\"text-align: right;\">\n",
       "      <th></th>\n",
       "      <th>original_title</th>\n",
       "      <th>runtime</th>\n",
       "      <th>total_profit</th>\n",
       "    </tr>\n",
       "  </thead>\n",
       "  <tbody>\n",
       "    <tr>\n",
       "      <th>2107</th>\n",
       "      <td>Carlos</td>\n",
       "      <td>338</td>\n",
       "      <td>-17128721</td>\n",
       "    </tr>\n",
       "    <tr>\n",
       "      <th>10443</th>\n",
       "      <td>Cleopatra</td>\n",
       "      <td>248</td>\n",
       "      <td>26635000</td>\n",
       "    </tr>\n",
       "    <tr>\n",
       "      <th>7332</th>\n",
       "      <td>Heaven's Gate</td>\n",
       "      <td>219</td>\n",
       "      <td>-40515669</td>\n",
       "    </tr>\n",
       "    <tr>\n",
       "      <th>9850</th>\n",
       "      <td>Lawrence of Arabia</td>\n",
       "      <td>216</td>\n",
       "      <td>55000000</td>\n",
       "    </tr>\n",
       "    <tr>\n",
       "      <th>5065</th>\n",
       "      <td>Gods and Generals</td>\n",
       "      <td>214</td>\n",
       "      <td>-43076064</td>\n",
       "    </tr>\n",
       "    <tr>\n",
       "      <th>...</th>\n",
       "      <td>...</td>\n",
       "      <td>...</td>\n",
       "      <td>...</td>\n",
       "    </tr>\n",
       "    <tr>\n",
       "      <th>9462</th>\n",
       "      <td>The Land Before Time</td>\n",
       "      <td>69</td>\n",
       "      <td>72160846</td>\n",
       "    </tr>\n",
       "    <tr>\n",
       "      <th>7020</th>\n",
       "      <td>9 Songs</td>\n",
       "      <td>66</td>\n",
       "      <td>-667677</td>\n",
       "    </tr>\n",
       "    <tr>\n",
       "      <th>3424</th>\n",
       "      <td>Winnie the Pooh</td>\n",
       "      <td>63</td>\n",
       "      <td>-15540000</td>\n",
       "    </tr>\n",
       "    <tr>\n",
       "      <th>8005</th>\n",
       "      <td>Mickey's Christmas Carol</td>\n",
       "      <td>26</td>\n",
       "      <td>18000000</td>\n",
       "    </tr>\n",
       "    <tr>\n",
       "      <th>5162</th>\n",
       "      <td>Kid's Story</td>\n",
       "      <td>15</td>\n",
       "      <td>-5</td>\n",
       "    </tr>\n",
       "  </tbody>\n",
       "</table>\n",
       "<p>3805 rows × 3 columns</p>\n",
       "</div>"
      ],
      "text/plain": [
       "                 original_title  runtime  total_profit\n",
       "2107                     Carlos      338     -17128721\n",
       "10443                 Cleopatra      248      26635000\n",
       "7332              Heaven's Gate      219     -40515669\n",
       "9850         Lawrence of Arabia      216      55000000\n",
       "5065          Gods and Generals      214     -43076064\n",
       "...                         ...      ...           ...\n",
       "9462       The Land Before Time       69      72160846\n",
       "7020                    9 Songs       66       -667677\n",
       "3424            Winnie the Pooh       63     -15540000\n",
       "8005   Mickey's Christmas Carol       26      18000000\n",
       "5162                Kid's Story       15            -5\n",
       "\n",
       "[3805 rows x 3 columns]"
      ]
     },
     "execution_count": 34,
     "metadata": {},
     "output_type": "execute_result"
    }
   ],
   "source": [
    "runtimes = runtimes.sort_values(by=['runtime'], ascending=False)\n",
    "runtimes"
   ]
  },
  {
   "cell_type": "markdown",
   "metadata": {},
   "source": [
    "The answer to our fourth question has revealed itself.\n",
    "The movie with the **longest runtime is The Lord of the Rings: The Return of the King at 201 minutes.**\n",
    "The movie with the **shortest runtime is The Jungle Book coming in a 78 minutes.**\n",
    "***\n",
    "#### 5. What are the average movie runtimes and what impact does runtime have on total profits?"
   ]
  },
  {
   "cell_type": "code",
   "execution_count": 35,
   "metadata": {},
   "outputs": [
    {
     "data": {
      "text/html": [
       "<div>\n",
       "<style scoped>\n",
       "    .dataframe tbody tr th:only-of-type {\n",
       "        vertical-align: middle;\n",
       "    }\n",
       "\n",
       "    .dataframe tbody tr th {\n",
       "        vertical-align: top;\n",
       "    }\n",
       "\n",
       "    .dataframe thead th {\n",
       "        text-align: right;\n",
       "    }\n",
       "</style>\n",
       "<table border=\"1\" class=\"dataframe\">\n",
       "  <thead>\n",
       "    <tr style=\"text-align: right;\">\n",
       "      <th></th>\n",
       "      <th>original_title</th>\n",
       "      <th>runtime</th>\n",
       "      <th>total_profit</th>\n",
       "    </tr>\n",
       "  </thead>\n",
       "  <tbody>\n",
       "    <tr>\n",
       "      <th>4949</th>\n",
       "      <td>The Lord of the Rings: The Return of the King</td>\n",
       "      <td>201</td>\n",
       "      <td>1024888979</td>\n",
       "    </tr>\n",
       "    <tr>\n",
       "      <th>10222</th>\n",
       "      <td>Schindler's List</td>\n",
       "      <td>195</td>\n",
       "      <td>299265768</td>\n",
       "    </tr>\n",
       "    <tr>\n",
       "      <th>5231</th>\n",
       "      <td>Titanic</td>\n",
       "      <td>194</td>\n",
       "      <td>1645034188</td>\n",
       "    </tr>\n",
       "    <tr>\n",
       "      <th>2414</th>\n",
       "      <td>The Green Mile</td>\n",
       "      <td>189</td>\n",
       "      <td>224600000</td>\n",
       "    </tr>\n",
       "    <tr>\n",
       "      <th>6215</th>\n",
       "      <td>King Kong</td>\n",
       "      <td>187</td>\n",
       "      <td>343000000</td>\n",
       "    </tr>\n",
       "    <tr>\n",
       "      <th>...</th>\n",
       "      <td>...</td>\n",
       "      <td>...</td>\n",
       "      <td>...</td>\n",
       "    </tr>\n",
       "    <tr>\n",
       "      <th>8068</th>\n",
       "      <td>Toy Story</td>\n",
       "      <td>81</td>\n",
       "      <td>331958736</td>\n",
       "    </tr>\n",
       "    <tr>\n",
       "      <th>2449</th>\n",
       "      <td>The Blair Witch Project</td>\n",
       "      <td>81</td>\n",
       "      <td>247975000</td>\n",
       "    </tr>\n",
       "    <tr>\n",
       "      <th>3913</th>\n",
       "      <td>Ice Age</td>\n",
       "      <td>81</td>\n",
       "      <td>324257136</td>\n",
       "    </tr>\n",
       "    <tr>\n",
       "      <th>10110</th>\n",
       "      <td>One Hundred and One Dalmatians</td>\n",
       "      <td>79</td>\n",
       "      <td>211880014</td>\n",
       "    </tr>\n",
       "    <tr>\n",
       "      <th>10398</th>\n",
       "      <td>The Jungle Book</td>\n",
       "      <td>78</td>\n",
       "      <td>201843612</td>\n",
       "    </tr>\n",
       "  </tbody>\n",
       "</table>\n",
       "<p>396 rows × 3 columns</p>\n",
       "</div>"
      ],
      "text/plain": [
       "                                      original_title  runtime  total_profit\n",
       "4949   The Lord of the Rings: The Return of the King      201    1024888979\n",
       "10222                               Schindler's List      195     299265768\n",
       "5231                                         Titanic      194    1645034188\n",
       "2414                                  The Green Mile      189     224600000\n",
       "6215                                       King Kong      187     343000000\n",
       "...                                              ...      ...           ...\n",
       "8068                                       Toy Story       81     331958736\n",
       "2449                         The Blair Witch Project       81     247975000\n",
       "3913                                         Ice Age       81     324257136\n",
       "10110                 One Hundred and One Dalmatians       79     211880014\n",
       "10398                                The Jungle Book       78     201843612\n",
       "\n",
       "[396 rows x 3 columns]"
      ]
     },
     "execution_count": 35,
     "metadata": {},
     "output_type": "execute_result"
    }
   ],
   "source": [
    "#To get started, we'll select those movies that made above $200,000,000 in total profit\n",
    "runtimes = runtimes.loc[runtimes['total_profit'] >= 200000000]\n",
    "\n",
    "#sort the new series by the runtime, from highest to lowest\n",
    "runtimes = runtimes.sort_values(by=['runtime'], ascending=False)\n",
    "runtimes"
   ]
  },
  {
   "cell_type": "code",
   "execution_count": 36,
   "metadata": {},
   "outputs": [
    {
     "data": {
      "text/plain": [
       "120"
      ]
     },
     "execution_count": 36,
     "metadata": {},
     "output_type": "execute_result"
    }
   ],
   "source": [
    "#We now have 396 movies that have at least a 78 minute run time and all have made over $200,000,000 in profits.\n",
    "#The runtime mean can possibly give us some more insight into our search\n",
    "rt_mean = int(round(runtimes['runtime'].mean()))\n",
    "rt_mean"
   ]
  },
  {
   "cell_type": "code",
   "execution_count": 37,
   "metadata": {},
   "outputs": [
    {
     "data": {
      "text/html": [
       "<div>\n",
       "<style scoped>\n",
       "    .dataframe tbody tr th:only-of-type {\n",
       "        vertical-align: middle;\n",
       "    }\n",
       "\n",
       "    .dataframe tbody tr th {\n",
       "        vertical-align: top;\n",
       "    }\n",
       "\n",
       "    .dataframe thead tr th {\n",
       "        text-align: left;\n",
       "    }\n",
       "</style>\n",
       "<table border=\"1\" class=\"dataframe\">\n",
       "  <thead>\n",
       "    <tr>\n",
       "      <th></th>\n",
       "      <th colspan=\"3\" halign=\"left\">Runtime Above Mean</th>\n",
       "      <th colspan=\"3\" halign=\"left\">Runtime Below Mean</th>\n",
       "    </tr>\n",
       "    <tr>\n",
       "      <th></th>\n",
       "      <th>original_title</th>\n",
       "      <th>runtime</th>\n",
       "      <th>total_profit</th>\n",
       "      <th>original_title</th>\n",
       "      <th>runtime</th>\n",
       "      <th>total_profit</th>\n",
       "    </tr>\n",
       "  </thead>\n",
       "  <tbody>\n",
       "    <tr>\n",
       "      <th>0</th>\n",
       "      <td>The Lord of the Rings: The Return of the King</td>\n",
       "      <td>201.0</td>\n",
       "      <td>1.024889e+09</td>\n",
       "      <td>Mr. &amp; Mrs. Smith</td>\n",
       "      <td>120</td>\n",
       "      <td>368207520</td>\n",
       "    </tr>\n",
       "    <tr>\n",
       "      <th>1</th>\n",
       "      <td>Schindler's List</td>\n",
       "      <td>195.0</td>\n",
       "      <td>2.992658e+08</td>\n",
       "      <td>Slumdog Millionaire</td>\n",
       "      <td>120</td>\n",
       "      <td>362910544</td>\n",
       "    </tr>\n",
       "    <tr>\n",
       "      <th>2</th>\n",
       "      <td>Titanic</td>\n",
       "      <td>194.0</td>\n",
       "      <td>1.645034e+09</td>\n",
       "      <td>Mad Max: Fury Road</td>\n",
       "      <td>120</td>\n",
       "      <td>228436354</td>\n",
       "    </tr>\n",
       "    <tr>\n",
       "      <th>3</th>\n",
       "      <td>The Green Mile</td>\n",
       "      <td>189.0</td>\n",
       "      <td>2.246000e+08</td>\n",
       "      <td>Home Alone 2: Lost In New York</td>\n",
       "      <td>120</td>\n",
       "      <td>340991681</td>\n",
       "    </tr>\n",
       "    <tr>\n",
       "      <th>4</th>\n",
       "      <td>King Kong</td>\n",
       "      <td>187.0</td>\n",
       "      <td>3.430000e+08</td>\n",
       "      <td>Planet of the Apes</td>\n",
       "      <td>119</td>\n",
       "      <td>262211740</td>\n",
       "    </tr>\n",
       "  </tbody>\n",
       "</table>\n",
       "</div>"
      ],
      "text/plain": [
       "                              Runtime Above Mean                        \\\n",
       "                                  original_title runtime  total_profit   \n",
       "0  The Lord of the Rings: The Return of the King   201.0  1.024889e+09   \n",
       "1                               Schindler's List   195.0  2.992658e+08   \n",
       "2                                        Titanic   194.0  1.645034e+09   \n",
       "3                                 The Green Mile   189.0  2.246000e+08   \n",
       "4                                      King Kong   187.0  3.430000e+08   \n",
       "\n",
       "               Runtime Below Mean                       \n",
       "                   original_title runtime total_profit  \n",
       "0                Mr. & Mrs. Smith     120    368207520  \n",
       "1             Slumdog Millionaire     120    362910544  \n",
       "2              Mad Max: Fury Road     120    228436354  \n",
       "3  Home Alone 2: Lost In New York     120    340991681  \n",
       "4              Planet of the Apes     119    262211740  "
      ]
     },
     "execution_count": 37,
     "metadata": {},
     "output_type": "execute_result"
    }
   ],
   "source": [
    "#Since we have the mean of 120 minutes now, let's find all of those movies above and below the mean.\n",
    "rt_above_mean = runtimes.loc[runtimes['runtime'] >= rt_mean]\n",
    "rt_below_mean = runtimes.loc[runtimes['runtime'] <= rt_mean]\n",
    "\n",
    "#Resetting the indexes for each seires to make the comparison look better\n",
    "rt_above_mean.reset_index(drop=True, inplace=True)\n",
    "rt_below_mean.reset_index(drop=True, inplace=True)\n",
    "\n",
    "#Using pd.concat to compare both runtime series side by side\n",
    "rt_mean_compare = pd.concat([rt_above_mean, rt_below_mean], axis=1, keys=['Runtime Above Mean', 'Runtime Below Mean'])\n",
    "\n",
    "#What does our comparison begin to show...?\n",
    "rt_mean_compare.head(5)"
   ]
  },
  {
   "cell_type": "code",
   "execution_count": 38,
   "metadata": {},
   "outputs": [
    {
     "data": {
      "text/plain": [
       "414050408"
      ]
     },
     "execution_count": 38,
     "metadata": {},
     "output_type": "execute_result"
    }
   ],
   "source": [
    "#And now the total profit mean\n",
    "tp_mean = int(round(runtimes['total_profit'].mean(),4))\n",
    "tp_mean"
   ]
  },
  {
   "cell_type": "code",
   "execution_count": 39,
   "metadata": {},
   "outputs": [
    {
     "data": {
      "text/html": [
       "<div>\n",
       "<style scoped>\n",
       "    .dataframe tbody tr th:only-of-type {\n",
       "        vertical-align: middle;\n",
       "    }\n",
       "\n",
       "    .dataframe tbody tr th {\n",
       "        vertical-align: top;\n",
       "    }\n",
       "\n",
       "    .dataframe thead tr th {\n",
       "        text-align: left;\n",
       "    }\n",
       "</style>\n",
       "<table border=\"1\" class=\"dataframe\">\n",
       "  <thead>\n",
       "    <tr>\n",
       "      <th></th>\n",
       "      <th colspan=\"3\" halign=\"left\">Total Profits Above Mean</th>\n",
       "      <th colspan=\"3\" halign=\"left\">Total Profits Below Mean</th>\n",
       "    </tr>\n",
       "    <tr>\n",
       "      <th></th>\n",
       "      <th>original_title</th>\n",
       "      <th>runtime</th>\n",
       "      <th>total_profit</th>\n",
       "      <th>original_title</th>\n",
       "      <th>runtime</th>\n",
       "      <th>total_profit</th>\n",
       "    </tr>\n",
       "  </thead>\n",
       "  <tbody>\n",
       "    <tr>\n",
       "      <th>0</th>\n",
       "      <td>The Lord of the Rings: The Return of the King</td>\n",
       "      <td>201.0</td>\n",
       "      <td>1.024889e+09</td>\n",
       "      <td>Schindler's List</td>\n",
       "      <td>195</td>\n",
       "      <td>299265768</td>\n",
       "    </tr>\n",
       "    <tr>\n",
       "      <th>1</th>\n",
       "      <td>Titanic</td>\n",
       "      <td>194.0</td>\n",
       "      <td>1.645034e+09</td>\n",
       "      <td>The Green Mile</td>\n",
       "      <td>189</td>\n",
       "      <td>224600000</td>\n",
       "    </tr>\n",
       "    <tr>\n",
       "      <th>2</th>\n",
       "      <td>The Lord of the Rings: The Two Towers</td>\n",
       "      <td>179.0</td>\n",
       "      <td>8.472874e+08</td>\n",
       "      <td>King Kong</td>\n",
       "      <td>187</td>\n",
       "      <td>343000000</td>\n",
       "    </tr>\n",
       "    <tr>\n",
       "      <th>3</th>\n",
       "      <td>The Lord of the Rings: The Fellowship of the Ring</td>\n",
       "      <td>178.0</td>\n",
       "      <td>7.783684e+08</td>\n",
       "      <td>Pearl Harbor</td>\n",
       "      <td>183</td>\n",
       "      <td>309220945</td>\n",
       "    </tr>\n",
       "    <tr>\n",
       "      <th>4</th>\n",
       "      <td>Pirates of the Caribbean: At World's End</td>\n",
       "      <td>169.0</td>\n",
       "      <td>6.610000e+08</td>\n",
       "      <td>Dances with Wolves</td>\n",
       "      <td>181</td>\n",
       "      <td>402208848</td>\n",
       "    </tr>\n",
       "  </tbody>\n",
       "</table>\n",
       "</div>"
      ],
      "text/plain": [
       "                            Total Profits Above Mean                        \\\n",
       "                                      original_title runtime  total_profit   \n",
       "0      The Lord of the Rings: The Return of the King   201.0  1.024889e+09   \n",
       "1                                            Titanic   194.0  1.645034e+09   \n",
       "2              The Lord of the Rings: The Two Towers   179.0  8.472874e+08   \n",
       "3  The Lord of the Rings: The Fellowship of the Ring   178.0  7.783684e+08   \n",
       "4           Pirates of the Caribbean: At World's End   169.0  6.610000e+08   \n",
       "\n",
       "  Total Profits Below Mean                       \n",
       "            original_title runtime total_profit  \n",
       "0         Schindler's List     195    299265768  \n",
       "1           The Green Mile     189    224600000  \n",
       "2                King Kong     187    343000000  \n",
       "3             Pearl Harbor     183    309220945  \n",
       "4       Dances with Wolves     181    402208848  "
      ]
     },
     "execution_count": 39,
     "metadata": {},
     "output_type": "execute_result"
    }
   ],
   "source": [
    "#Total profits above the mean\n",
    "tp_above_mean = runtimes.loc[runtimes['total_profit'] >= tp_mean]\n",
    "#Total profits below the mean\n",
    "tp_below_mean = runtimes.loc[runtimes['total_profit'] <= tp_mean]\n",
    "\n",
    "#Reset the indexes to make the comparison look better\n",
    "tp_above_mean.reset_index(drop=True, inplace=True)\n",
    "tp_below_mean.reset_index(drop=True, inplace=True)\n",
    "\n",
    "#Combining both new series using pd.concat\n",
    "tp_mean_compare = pd.concat([tp_above_mean, tp_below_mean], axis=1,  keys=['Total Profits Above Mean', 'Total Profits Below Mean'])\n",
    "tp_mean_compare.head(5)"
   ]
  },
  {
   "cell_type": "code",
   "execution_count": 40,
   "metadata": {},
   "outputs": [
    {
     "name": "stdout",
     "output_type": "stream",
     "text": [
      "The average profit a movie makes that runs above 120 minutes is $477706188.\n",
      "The average profit a movie makes that runs below 120 minutes is $356495074.\n"
     ]
    }
   ],
   "source": [
    "#We can now see what the total profit averages are for those above the runtime mean of 120 minutes and those below 120 minutes.\n",
    "avg_above_rt = int(round(rt_above_mean['total_profit'].mean()))\n",
    "avg_below_rt = int(round(rt_below_mean['total_profit'].mean()))\n",
    "print('The average profit a movie makes that runs above ' + str(rt_mean) + ' minutes'+ ' is ' + '$' + str(avg_above_rt) + '.')\n",
    "print('The average profit a movie makes that runs below ' + str(rt_mean) + ' minutes'+ ' is ' + '$' + str(avg_below_rt) + '.')"
   ]
  },
  {
   "cell_type": "markdown",
   "metadata": {},
   "source": [
    "***\n",
    "<a id='conclusions'></a>\n",
    "## Conclusions\n",
    "\n",
    "Overall, this was an interesting data set to analyze. We only answered 5 questions, but it has the potential for much more using keywords, date ranges, or even popularity scores.\n",
    "\n",
    "Avatar in the top spot for total profits seems like a tough movie to beat. But if anyone could do it, it would probably be Steven Spielberg who seems to really bring in the money for the studios. He's untouchable in profitability even compared to second place, Peter Jackson.\n",
    "\n",
    "We also concluded that movies with a runtime over 120 minutes will earn an average of \\$121,211,114 MORE in profits than those below the 120 minute mark. The movie industry's best bet would be to make their movies at least 120 minutes to maximize their profits.\n",
    "\n",
    "By banking on a great director or a movie with a runtime above 120 minutes, the next movie made could potentially reach the average profitability of $477,706,188. And chances are good, the next movie you watch, whether in the theater or at home might contain Robert De Niro in either a lead or supporting role.\n",
    "\n",
    "**Limitations:** While we started with over 10000 unique movies, for the sake of this analysis we cut out a substantial amount during our data wrangling portion. We eliminated those movies with a budget of zero and used only those with total profits above \\$200,000,000. While that budget data isn't factually accurate, our decision of dropping all of those movies had an impact on our final analysis. If we were to say, fill those zeroes with the mean or next closest value, we could be coming to some different conclusions today. Likewise, if we reduced our total profits to include all ranges of profits, our data would tell a slightly different story.\n",
    "\n"
   ]
  },
  {
   "cell_type": "markdown",
   "metadata": {},
   "source": [
    "***"
   ]
  }
 ],
 "metadata": {
  "kernelspec": {
   "display_name": "Python 3",
   "language": "python",
   "name": "python3"
  },
  "language_info": {
   "codemirror_mode": {
    "name": "ipython",
    "version": 3
   },
   "file_extension": ".py",
   "mimetype": "text/x-python",
   "name": "python",
   "nbconvert_exporter": "python",
   "pygments_lexer": "ipython3",
   "version": "3.7.7"
  }
 },
 "nbformat": 4,
 "nbformat_minor": 2
}
